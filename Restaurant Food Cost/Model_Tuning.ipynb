{
 "cells": [
  {
   "cell_type": "code",
   "execution_count": 3,
   "metadata": {},
   "outputs": [],
   "source": [
    "import pandas as pd\n",
    "import seaborn as sns\n",
    "import matplotlib.pyplot as plt\n",
    "import numpy as np\n",
    "import warnings\n",
    "warnings.filterwarnings(action=\"ignore\")\n",
    "#import featuretools as ft"
   ]
  },
  {
   "cell_type": "code",
   "execution_count": 377,
   "metadata": {
    "collapsed": true
   },
   "outputs": [],
   "source": [
    "raw_data1 = pd.read_excel(\"./Data_Train.xlsx\")\n",
    "test_data = pd.read_excel(\"./Data_Test.xlsx\")\n",
    "raw_data1['source'] = 'train'\n",
    "test_data['source'] = 'test'\n",
    "raw_data = pd.concat([raw_data1,test_data],ignore_index=True)"
   ]
  },
  {
   "cell_type": "code",
   "execution_count": 378,
   "metadata": {},
   "outputs": [
    {
     "name": "stdout",
     "output_type": "stream",
     "text": [
      "<class 'pandas.core.frame.DataFrame'>\n",
      "RangeIndex: 16921 entries, 0 to 16920\n",
      "Data columns (total 10 columns):\n",
      "CITY             16774 non-null object\n",
      "COST             12690 non-null float64\n",
      "CUISINES         16921 non-null object\n",
      "LOCALITY         16793 non-null object\n",
      "RATING           16917 non-null object\n",
      "RESTAURANT_ID    16921 non-null int64\n",
      "TIME             16921 non-null object\n",
      "TITLE            16921 non-null object\n",
      "VOTES            15315 non-null object\n",
      "source           16921 non-null object\n",
      "dtypes: float64(1), int64(1), object(8)\n",
      "memory usage: 10.0 MB\n"
     ]
    }
   ],
   "source": [
    "raw_data.info(memory_usage='deep')"
   ]
  },
  {
   "cell_type": "code",
   "execution_count": 379,
   "metadata": {},
   "outputs": [
    {
     "data": {
      "text/plain": [
       "Index(['CITY', 'COST', 'CUISINES', 'LOCALITY', 'RATING', 'RESTAURANT_ID',\n",
       "       'TIME', 'TITLE', 'VOTES', 'source'],\n",
       "      dtype='object')"
      ]
     },
     "execution_count": 379,
     "metadata": {},
     "output_type": "execute_result"
    }
   ],
   "source": [
    "raw_data.columns"
   ]
  },
  {
   "cell_type": "code",
   "execution_count": 380,
   "metadata": {
    "collapsed": true
   },
   "outputs": [],
   "source": [
    "raw_data.head(5)\n",
    "raw_data = raw_data[['CITY', 'CUISINES', 'LOCALITY', 'RATING',\n",
    "       'TIME', 'TITLE', 'VOTES', 'source', 'COST']]"
   ]
  },
  {
   "cell_type": "code",
   "execution_count": 381,
   "metadata": {},
   "outputs": [
    {
     "name": "stdout",
     "output_type": "stream",
     "text": [
      "The train shape is (12690, 10)\n",
      "The test shape is (4231, 9)\n"
     ]
    }
   ],
   "source": [
    "print(\"The train shape is\", raw_data1.shape)\n",
    "print(\"The test shape is\", test_data.shape)"
   ]
  },
  {
   "cell_type": "code",
   "execution_count": 382,
   "metadata": {},
   "outputs": [
    {
     "data": {
      "text/plain": [
       "CITY         147\n",
       "CUISINES       0\n",
       "LOCALITY     128\n",
       "RATING         4\n",
       "TIME           0\n",
       "TITLE          0\n",
       "VOTES       1606\n",
       "source         0\n",
       "COST        4231\n",
       "dtype: int64"
      ]
     },
     "execution_count": 382,
     "metadata": {},
     "output_type": "execute_result"
    }
   ],
   "source": [
    "raw_data.isnull().sum()"
   ]
  },
  {
   "cell_type": "code",
   "execution_count": 383,
   "metadata": {
    "collapsed": true
   },
   "outputs": [],
   "source": [
    "#raw_data.drop(['RESTAURANT_ID'],inplace=True,axis=1)"
   ]
  },
  {
   "cell_type": "code",
   "execution_count": 384,
   "metadata": {},
   "outputs": [
    {
     "data": {
      "text/plain": [
       "CITY         147\n",
       "CUISINES       0\n",
       "LOCALITY     128\n",
       "RATING         4\n",
       "TIME           0\n",
       "TITLE          0\n",
       "VOTES       1606\n",
       "source         0\n",
       "COST        4231\n",
       "dtype: int64"
      ]
     },
     "execution_count": 384,
     "metadata": {},
     "output_type": "execute_result"
    }
   ],
   "source": [
    "raw_data.isnull().sum()"
   ]
  },
  {
   "cell_type": "code",
   "execution_count": 385,
   "metadata": {},
   "outputs": [
    {
     "data": {
      "text/html": [
       "<div>\n",
       "<style>\n",
       "    .dataframe thead tr:only-child th {\n",
       "        text-align: right;\n",
       "    }\n",
       "\n",
       "    .dataframe thead th {\n",
       "        text-align: left;\n",
       "    }\n",
       "\n",
       "    .dataframe tbody tr th {\n",
       "        vertical-align: top;\n",
       "    }\n",
       "</style>\n",
       "<table border=\"1\" class=\"dataframe\">\n",
       "  <thead>\n",
       "    <tr style=\"text-align: right;\">\n",
       "      <th></th>\n",
       "      <th>CITY</th>\n",
       "      <th>CUISINES</th>\n",
       "      <th>LOCALITY</th>\n",
       "      <th>RATING</th>\n",
       "      <th>TIME</th>\n",
       "      <th>TITLE</th>\n",
       "      <th>VOTES</th>\n",
       "      <th>source</th>\n",
       "      <th>COST</th>\n",
       "    </tr>\n",
       "  </thead>\n",
       "  <tbody>\n",
       "    <tr>\n",
       "      <th>0</th>\n",
       "      <td>Thane</td>\n",
       "      <td>Malwani, Goan, North Indian</td>\n",
       "      <td>Dombivali East</td>\n",
       "      <td>3.6</td>\n",
       "      <td>11am – 4pm, 7:30pm – 11:30pm (Mon-Sun)</td>\n",
       "      <td>CASUAL DINING</td>\n",
       "      <td>49 votes</td>\n",
       "      <td>train</td>\n",
       "      <td>1200.0</td>\n",
       "    </tr>\n",
       "    <tr>\n",
       "      <th>1</th>\n",
       "      <td>Chennai</td>\n",
       "      <td>Asian, Modern Indian, Japanese</td>\n",
       "      <td>Ramapuram</td>\n",
       "      <td>4.2</td>\n",
       "      <td>6pm – 11pm (Mon-Sun)</td>\n",
       "      <td>CASUAL DINING,BAR</td>\n",
       "      <td>30 votes</td>\n",
       "      <td>train</td>\n",
       "      <td>1500.0</td>\n",
       "    </tr>\n",
       "    <tr>\n",
       "      <th>2</th>\n",
       "      <td>Chennai</td>\n",
       "      <td>North Indian, Chinese, Biryani, Hyderabadi</td>\n",
       "      <td>Saligramam</td>\n",
       "      <td>3.8</td>\n",
       "      <td>11am – 3:30pm, 7pm – 11pm (Mon-Sun)</td>\n",
       "      <td>CASUAL DINING</td>\n",
       "      <td>221 votes</td>\n",
       "      <td>train</td>\n",
       "      <td>800.0</td>\n",
       "    </tr>\n",
       "    <tr>\n",
       "      <th>3</th>\n",
       "      <td>Mumbai</td>\n",
       "      <td>Tibetan, Chinese</td>\n",
       "      <td>Bandra West</td>\n",
       "      <td>4.1</td>\n",
       "      <td>11:30am – 1am (Mon-Sun)</td>\n",
       "      <td>QUICK BITES</td>\n",
       "      <td>24 votes</td>\n",
       "      <td>train</td>\n",
       "      <td>800.0</td>\n",
       "    </tr>\n",
       "    <tr>\n",
       "      <th>4</th>\n",
       "      <td>Mumbai</td>\n",
       "      <td>Desserts</td>\n",
       "      <td>Lower Parel</td>\n",
       "      <td>3.8</td>\n",
       "      <td>11am – 1am (Mon-Sun)</td>\n",
       "      <td>DESSERT PARLOR</td>\n",
       "      <td>165 votes</td>\n",
       "      <td>train</td>\n",
       "      <td>300.0</td>\n",
       "    </tr>\n",
       "  </tbody>\n",
       "</table>\n",
       "</div>"
      ],
      "text/plain": [
       "      CITY                                    CUISINES        LOCALITY RATING  \\\n",
       "0    Thane                 Malwani, Goan, North Indian  Dombivali East    3.6   \n",
       "1  Chennai              Asian, Modern Indian, Japanese       Ramapuram    4.2   \n",
       "2  Chennai  North Indian, Chinese, Biryani, Hyderabadi      Saligramam    3.8   \n",
       "3   Mumbai                            Tibetan, Chinese     Bandra West    4.1   \n",
       "4   Mumbai                                    Desserts     Lower Parel    3.8   \n",
       "\n",
       "                                     TIME              TITLE      VOTES  \\\n",
       "0  11am – 4pm, 7:30pm – 11:30pm (Mon-Sun)      CASUAL DINING   49 votes   \n",
       "1                    6pm – 11pm (Mon-Sun)  CASUAL DINING,BAR   30 votes   \n",
       "2     11am – 3:30pm, 7pm – 11pm (Mon-Sun)      CASUAL DINING  221 votes   \n",
       "3                 11:30am – 1am (Mon-Sun)        QUICK BITES   24 votes   \n",
       "4                    11am – 1am (Mon-Sun)     DESSERT PARLOR  165 votes   \n",
       "\n",
       "  source    COST  \n",
       "0  train  1200.0  \n",
       "1  train  1500.0  \n",
       "2  train   800.0  \n",
       "3  train   800.0  \n",
       "4  train   300.0  "
      ]
     },
     "execution_count": 385,
     "metadata": {},
     "output_type": "execute_result"
    }
   ],
   "source": [
    "raw_data.head(5)"
   ]
  },
  {
   "cell_type": "code",
   "execution_count": 386,
   "metadata": {},
   "outputs": [
    {
     "data": {
      "text/plain": [
       "CITY         object\n",
       "CUISINES     object\n",
       "LOCALITY     object\n",
       "RATING       object\n",
       "TIME         object\n",
       "TITLE        object\n",
       "VOTES        object\n",
       "source       object\n",
       "COST        float64\n",
       "dtype: object"
      ]
     },
     "execution_count": 386,
     "metadata": {},
     "output_type": "execute_result"
    }
   ],
   "source": [
    "raw_data.dtypes"
   ]
  },
  {
   "cell_type": "code",
   "execution_count": 387,
   "metadata": {
    "collapsed": true
   },
   "outputs": [],
   "source": [
    "def unique_counts(df,features,p=False):\n",
    "    for i in features:\n",
    "        if p:\n",
    "         print(\"The number of unique values for\",i, df[i].value_counts())\n",
    "         print(\"The number of unique values for\",i, len(df[i].value_counts()))\n",
    "         print(\"-\"*100)\n",
    "        else :\n",
    "            print(\"The number of unique values for\",i, len(df[i].value_counts()))\n",
    "            print(\"-\"*100)"
   ]
  },
  {
   "cell_type": "code",
   "execution_count": 388,
   "metadata": {},
   "outputs": [
    {
     "name": "stdout",
     "output_type": "stream",
     "text": [
      "The number of unique values for CITY 450\n",
      "----------------------------------------------------------------------------------------------------\n",
      "The number of unique values for CUISINES 5183\n",
      "----------------------------------------------------------------------------------------------------\n",
      "The number of unique values for LOCALITY 1636\n",
      "----------------------------------------------------------------------------------------------------\n",
      "The number of unique values for TITLE 123\n",
      "----------------------------------------------------------------------------------------------------\n"
     ]
    }
   ],
   "source": [
    "ft = ['CITY','CUISINES','LOCALITY','TITLE',]\n",
    "unique_counts(raw_data,ft)"
   ]
  },
  {
   "cell_type": "code",
   "execution_count": 389,
   "metadata": {
    "collapsed": true
   },
   "outputs": [],
   "source": [
    "raw_data['CITY'].fillna('NA', inplace=True)\n",
    "raw_data['LOCALITY'].fillna('XXX', inplace=True)\n",
    "raw_data['RATING'].fillna(0, inplace=True)\n",
    "raw_data['VOTES'].fillna(\"0 votes\",inplace=True)"
   ]
  },
  {
   "cell_type": "code",
   "execution_count": 390,
   "metadata": {
    "collapsed": true
   },
   "outputs": [],
   "source": [
    "def comma_seprated_categories(df, col):\n",
    "    cols = list(df[col])\n",
    "    max = 1\n",
    "    for i in cols:\n",
    "        if len(i.split(',')) > max:\n",
    "            max = len(i.split(','))\n",
    "    print(\"Max number of\",col,\"in a cell\",max)\n",
    "    \n",
    "    all_cats = []\n",
    "    for i in cols :\n",
    "     if len(i.split(',')) == 1:\n",
    "         all_cats.append(i.split(',')[0].strip().upper())\n",
    "     else :\n",
    "        for it in range(len(i.split(','))):\n",
    "            all_cats.append(i.split(',')[it].strip().upper())\n",
    "    print(\"\\n\\nNumber of Unique\",col,\": \", len(pd.Series(all_cats).unique()))\n",
    "    print(\"\\n\\nUnique\",col,\":\\n\", pd.Series(all_cats).unique()) \n",
    "    return list(pd.Series(all_cats).unique())"
   ]
  },
  {
   "cell_type": "code",
   "execution_count": 391,
   "metadata": {},
   "outputs": [
    {
     "name": "stdout",
     "output_type": "stream",
     "text": [
      "Max number of TITLE in a cell 2\n",
      "\n",
      "\n",
      "Number of Unique TITLE :  25\n",
      "\n",
      "\n",
      "Unique TITLE :\n",
      " ['CASUAL DINING' 'BAR' 'QUICK BITES' 'DESSERT PARLOR' 'CAFÉ'\n",
      " 'MICROBREWERY' 'BEVERAGE SHOP' 'IRANI CAFE' 'BAKERY' 'NONE' 'PUB'\n",
      " 'FINE DINING' 'SWEET SHOP' 'LOUNGE' 'FOOD COURT' 'FOOD TRUCK' 'MESS'\n",
      " 'KIOSK' 'CLUB' 'CONFECTIONERY' 'DHABA' 'MEAT SHOP' 'COCKTAIL BAR'\n",
      " 'PAAN SHOP' 'BHOJANALYA']\n",
      "Max number of CUISINES in a cell 8\n",
      "\n",
      "\n",
      "Number of Unique CUISINES :  130\n",
      "\n",
      "\n",
      "Unique CUISINES :\n",
      " ['MALWANI' 'GOAN' 'NORTH INDIAN' 'ASIAN' 'MODERN INDIAN' 'JAPANESE'\n",
      " 'CHINESE' 'BIRYANI' 'HYDERABADI' 'TIBETAN' 'DESSERTS' 'SEAFOOD' 'CAFE'\n",
      " 'PIZZA' 'BURGER' 'BAR FOOD' 'SOUTH INDIAN' 'FAST FOOD' 'BEVERAGES'\n",
      " 'ARABIAN' 'MUGHLAI' 'MAHARASHTRIAN' 'PARSI' 'THAI' 'BAKERY' 'MOMOS'\n",
      " 'CONTINENTAL' 'EUROPEAN' 'ROLLS' 'ANDHRA' 'ITALIAN' 'BBQ' 'FINGER FOOD'\n",
      " 'TEA' 'AMERICAN' 'HEALTHY FOOD' 'COFFEE' 'INDONESIAN' 'KOREAN' 'NEPALESE'\n",
      " 'ICE CREAM' 'MEXICAN' 'KERALA' 'INDIAN' 'MITHAI' 'STREET FOOD'\n",
      " 'MALAYSIAN' 'VIETNAMESE' 'IRANIAN' 'KEBAB' 'JUICES' 'SANDWICH'\n",
      " 'MEDITERRANEAN' 'SALAD' 'GUJARATI' 'RAJASTHANI' 'TEX-MEX' 'ROAST CHICKEN'\n",
      " 'BURMESE' 'CHETTINAD' 'NORTH EASTERN' 'LEBANESE' 'COFFEE AND TEA' 'GRILL'\n",
      " '' 'BIHARI' 'BENGALI' 'LUCKNOWI' 'AWADHI' 'STEAK' 'FRENCH' 'PORTUGUESE'\n",
      " 'WRAPS' 'SRI LANKAN' 'ORIYA' 'ETHIOPIAN' 'KONKAN' 'SUSHI' 'SPANISH'\n",
      " 'RUSSIAN' 'MANGALOREAN' 'TURKISH' 'BUBBLE TEA' 'AFGHAN' 'NAGA'\n",
      " 'SINGAPOREAN' 'GERMAN' 'MIDDLE EASTERN' 'SINDHI' 'CANTONESE' 'HOT POT'\n",
      " 'PAN ASIAN' 'SATAY' 'DUMPLINGS' 'KASHMIRI' 'RAW MEATS' 'DRINKS ONLY'\n",
      " 'MOROCCAN' 'PANINI' 'CAFE FOOD' 'CHARCOAL CHICKEN' 'BELGIAN' 'MONGOLIAN'\n",
      " 'TAMIL' 'AFRICAN' 'PAAN' 'ASSAMESE' 'HOT DOGS' 'POKÉ' 'BRITISH' 'BOHRI'\n",
      " 'FUSION' 'ARMENIAN' 'SOUTH AMERICAN' 'GREEK' 'PAKISTANI' 'PERUVIAN'\n",
      " 'CUISINE VARIES' 'IRISH' 'MULTI CUISINE' 'JEWISH' 'VEGAN' 'ORIENTAL'\n",
      " 'MODERN AUSTRALIAN' 'EGYPTIAN' 'FISH AND CHIPS' 'BRAZILIAN' 'MISHTI'\n",
      " 'FALAFEL' 'HAWAIIAN']\n"
     ]
    }
   ],
   "source": [
    "all_titles = comma_seprated_categories(raw_data,col='TITLE')\n",
    "all_cuisines =comma_seprated_categories(raw_data,col='CUISINES')"
   ]
  },
  {
   "cell_type": "code",
   "execution_count": null,
   "metadata": {
    "collapsed": true
   },
   "outputs": [],
   "source": []
  },
  {
   "cell_type": "code",
   "execution_count": 392,
   "metadata": {},
   "outputs": [
    {
     "data": {
      "text/plain": [
       "CITY           0\n",
       "CUISINES       0\n",
       "LOCALITY       0\n",
       "RATING         0\n",
       "TIME           0\n",
       "TITLE          0\n",
       "VOTES          0\n",
       "source         0\n",
       "COST        4231\n",
       "dtype: int64"
      ]
     },
     "execution_count": 392,
     "metadata": {},
     "output_type": "execute_result"
    }
   ],
   "source": [
    "raw_data.isnull().sum()"
   ]
  },
  {
   "cell_type": "code",
   "execution_count": 393,
   "metadata": {},
   "outputs": [
    {
     "name": "stdout",
     "output_type": "stream",
     "text": [
      "Max number of CUISINES in a cell 8\n",
      "\n",
      "\n",
      "Number of Unique CUISINES :  130\n",
      "\n",
      "\n",
      "Unique CUISINES :\n",
      " ['MALWANI' 'GOAN' 'NORTH INDIAN' 'ASIAN' 'MODERN INDIAN' 'JAPANESE'\n",
      " 'CHINESE' 'BIRYANI' 'HYDERABADI' 'TIBETAN' 'DESSERTS' 'SEAFOOD' 'CAFE'\n",
      " 'PIZZA' 'BURGER' 'BAR FOOD' 'SOUTH INDIAN' 'FAST FOOD' 'BEVERAGES'\n",
      " 'ARABIAN' 'MUGHLAI' 'MAHARASHTRIAN' 'PARSI' 'THAI' 'BAKERY' 'MOMOS'\n",
      " 'CONTINENTAL' 'EUROPEAN' 'ROLLS' 'ANDHRA' 'ITALIAN' 'BBQ' 'FINGER FOOD'\n",
      " 'TEA' 'AMERICAN' 'HEALTHY FOOD' 'COFFEE' 'INDONESIAN' 'KOREAN' 'NEPALESE'\n",
      " 'ICE CREAM' 'MEXICAN' 'KERALA' 'INDIAN' 'MITHAI' 'STREET FOOD'\n",
      " 'MALAYSIAN' 'VIETNAMESE' 'IRANIAN' 'KEBAB' 'JUICES' 'SANDWICH'\n",
      " 'MEDITERRANEAN' 'SALAD' 'GUJARATI' 'RAJASTHANI' 'TEX-MEX' 'ROAST CHICKEN'\n",
      " 'BURMESE' 'CHETTINAD' 'NORTH EASTERN' 'LEBANESE' 'COFFEE AND TEA' 'GRILL'\n",
      " '' 'BIHARI' 'BENGALI' 'LUCKNOWI' 'AWADHI' 'STEAK' 'FRENCH' 'PORTUGUESE'\n",
      " 'WRAPS' 'SRI LANKAN' 'ORIYA' 'ETHIOPIAN' 'KONKAN' 'SUSHI' 'SPANISH'\n",
      " 'RUSSIAN' 'MANGALOREAN' 'TURKISH' 'BUBBLE TEA' 'AFGHAN' 'NAGA'\n",
      " 'SINGAPOREAN' 'GERMAN' 'MIDDLE EASTERN' 'SINDHI' 'CANTONESE' 'HOT POT'\n",
      " 'PAN ASIAN' 'SATAY' 'DUMPLINGS' 'KASHMIRI' 'RAW MEATS' 'DRINKS ONLY'\n",
      " 'MOROCCAN' 'PANINI' 'CAFE FOOD' 'CHARCOAL CHICKEN' 'BELGIAN' 'MONGOLIAN'\n",
      " 'TAMIL' 'AFRICAN' 'PAAN' 'ASSAMESE' 'HOT DOGS' 'POKÉ' 'BRITISH' 'BOHRI'\n",
      " 'FUSION' 'ARMENIAN' 'SOUTH AMERICAN' 'GREEK' 'PAKISTANI' 'PERUVIAN'\n",
      " 'CUISINE VARIES' 'IRISH' 'MULTI CUISINE' 'JEWISH' 'VEGAN' 'ORIENTAL'\n",
      " 'MODERN AUSTRALIAN' 'EGYPTIAN' 'FISH AND CHIPS' 'BRAZILIAN' 'MISHTI'\n",
      " 'FALAFEL' 'HAWAIIAN']\n"
     ]
    },
    {
     "data": {
      "text/plain": [
       "['MALWANI',\n",
       " 'GOAN',\n",
       " 'NORTH INDIAN',\n",
       " 'ASIAN',\n",
       " 'MODERN INDIAN',\n",
       " 'JAPANESE',\n",
       " 'CHINESE',\n",
       " 'BIRYANI',\n",
       " 'HYDERABADI',\n",
       " 'TIBETAN',\n",
       " 'DESSERTS',\n",
       " 'SEAFOOD',\n",
       " 'CAFE',\n",
       " 'PIZZA',\n",
       " 'BURGER',\n",
       " 'BAR FOOD',\n",
       " 'SOUTH INDIAN',\n",
       " 'FAST FOOD',\n",
       " 'BEVERAGES',\n",
       " 'ARABIAN',\n",
       " 'MUGHLAI',\n",
       " 'MAHARASHTRIAN',\n",
       " 'PARSI',\n",
       " 'THAI',\n",
       " 'BAKERY',\n",
       " 'MOMOS',\n",
       " 'CONTINENTAL',\n",
       " 'EUROPEAN',\n",
       " 'ROLLS',\n",
       " 'ANDHRA',\n",
       " 'ITALIAN',\n",
       " 'BBQ',\n",
       " 'FINGER FOOD',\n",
       " 'TEA',\n",
       " 'AMERICAN',\n",
       " 'HEALTHY FOOD',\n",
       " 'COFFEE',\n",
       " 'INDONESIAN',\n",
       " 'KOREAN',\n",
       " 'NEPALESE',\n",
       " 'ICE CREAM',\n",
       " 'MEXICAN',\n",
       " 'KERALA',\n",
       " 'INDIAN',\n",
       " 'MITHAI',\n",
       " 'STREET FOOD',\n",
       " 'MALAYSIAN',\n",
       " 'VIETNAMESE',\n",
       " 'IRANIAN',\n",
       " 'KEBAB',\n",
       " 'JUICES',\n",
       " 'SANDWICH',\n",
       " 'MEDITERRANEAN',\n",
       " 'SALAD',\n",
       " 'GUJARATI',\n",
       " 'RAJASTHANI',\n",
       " 'TEX-MEX',\n",
       " 'ROAST CHICKEN',\n",
       " 'BURMESE',\n",
       " 'CHETTINAD',\n",
       " 'NORTH EASTERN',\n",
       " 'LEBANESE',\n",
       " 'COFFEE AND TEA',\n",
       " 'GRILL',\n",
       " '',\n",
       " 'BIHARI',\n",
       " 'BENGALI',\n",
       " 'LUCKNOWI',\n",
       " 'AWADHI',\n",
       " 'STEAK',\n",
       " 'FRENCH',\n",
       " 'PORTUGUESE',\n",
       " 'WRAPS',\n",
       " 'SRI LANKAN',\n",
       " 'ORIYA',\n",
       " 'ETHIOPIAN',\n",
       " 'KONKAN',\n",
       " 'SUSHI',\n",
       " 'SPANISH',\n",
       " 'RUSSIAN',\n",
       " 'MANGALOREAN',\n",
       " 'TURKISH',\n",
       " 'BUBBLE TEA',\n",
       " 'AFGHAN',\n",
       " 'NAGA',\n",
       " 'SINGAPOREAN',\n",
       " 'GERMAN',\n",
       " 'MIDDLE EASTERN',\n",
       " 'SINDHI',\n",
       " 'CANTONESE',\n",
       " 'HOT POT',\n",
       " 'PAN ASIAN',\n",
       " 'SATAY',\n",
       " 'DUMPLINGS',\n",
       " 'KASHMIRI',\n",
       " 'RAW MEATS',\n",
       " 'DRINKS ONLY',\n",
       " 'MOROCCAN',\n",
       " 'PANINI',\n",
       " 'CAFE FOOD',\n",
       " 'CHARCOAL CHICKEN',\n",
       " 'BELGIAN',\n",
       " 'MONGOLIAN',\n",
       " 'TAMIL',\n",
       " 'AFRICAN',\n",
       " 'PAAN',\n",
       " 'ASSAMESE',\n",
       " 'HOT DOGS',\n",
       " 'POKÉ',\n",
       " 'BRITISH',\n",
       " 'BOHRI',\n",
       " 'FUSION',\n",
       " 'ARMENIAN',\n",
       " 'SOUTH AMERICAN',\n",
       " 'GREEK',\n",
       " 'PAKISTANI',\n",
       " 'PERUVIAN',\n",
       " 'CUISINE VARIES',\n",
       " 'IRISH',\n",
       " 'MULTI CUISINE',\n",
       " 'JEWISH',\n",
       " 'VEGAN',\n",
       " 'ORIENTAL',\n",
       " 'MODERN AUSTRALIAN',\n",
       " 'EGYPTIAN',\n",
       " 'FISH AND CHIPS',\n",
       " 'BRAZILIAN',\n",
       " 'MISHTI',\n",
       " 'FALAFEL',\n",
       " 'HAWAIIAN']"
      ]
     },
     "execution_count": 393,
     "metadata": {},
     "output_type": "execute_result"
    }
   ],
   "source": [
    "#comma_seprated_categories(raw_data,col='TITLE')\n",
    "comma_seprated_categories(raw_data,col='CUISINES')"
   ]
  },
  {
   "cell_type": "code",
   "execution_count": 394,
   "metadata": {},
   "outputs": [
    {
     "data": {
      "text/plain": [
       "count    12690.000000\n",
       "mean       655.252246\n",
       "std        627.003540\n",
       "min         20.000000\n",
       "25%        300.000000\n",
       "50%        500.000000\n",
       "75%        800.000000\n",
       "max      14000.000000\n",
       "Name: COST, dtype: float64"
      ]
     },
     "execution_count": 394,
     "metadata": {},
     "output_type": "execute_result"
    }
   ],
   "source": [
    "raw_data[raw_data['source']=='train']['COST'].describe()"
   ]
  },
  {
   "cell_type": "code",
   "execution_count": 395,
   "metadata": {},
   "outputs": [
    {
     "data": {
      "image/png": "[encoded data removed]",
      "text/plain": [
       "<matplotlib.figure.Figure at 0x1a1b279ef0>"
      ]
     },
     "metadata": {},
     "output_type": "display_data"
    }
   ],
   "source": [
    "sns.distplot((raw_data[raw_data['source']=='train']['COST']))\n",
    "plt.show()"
   ]
  },
  {
   "cell_type": "code",
   "execution_count": 396,
   "metadata": {},
   "outputs": [
    {
     "data": {
      "text/plain": [
       "count    12690.000000\n",
       "mean         6.198871\n",
       "std          0.722648\n",
       "min          2.995732\n",
       "25%          5.703782\n",
       "50%          6.214608\n",
       "75%          6.684612\n",
       "max          9.546813\n",
       "Name: COST, dtype: float64"
      ]
     },
     "execution_count": 396,
     "metadata": {},
     "output_type": "execute_result"
    }
   ],
   "source": [
    "np.log(raw_data[raw_data['source']=='train']['COST']).describe()"
   ]
  },
  {
   "cell_type": "code",
   "execution_count": 397,
   "metadata": {},
   "outputs": [
    {
     "data": {
      "image/png": "[encoded data removed]",
      "text/plain": [
       "<matplotlib.figure.Figure at 0x1a1ae10128>"
      ]
     },
     "metadata": {},
     "output_type": "display_data"
    }
   ],
   "source": [
    "sns.distplot(np.log(raw_data[raw_data['source']=='train']['COST']))\n",
    "plt.show()"
   ]
  },
  {
   "cell_type": "code",
   "execution_count": 398,
   "metadata": {},
   "outputs": [
    {
     "name": "stdout",
     "output_type": "stream",
     "text": [
      "294\n",
      "451\n"
     ]
    }
   ],
   "source": [
    "print(len(raw_data['CITY'].str.split(\" \",expand = True)[0].value_counts()))\n",
    "print(len(raw_data['CITY'].value_counts()))"
   ]
  },
  {
   "cell_type": "code",
   "execution_count": 399,
   "metadata": {},
   "outputs": [
    {
     "data": {
      "text/html": [
       "<div>\n",
       "<style>\n",
       "    .dataframe thead tr:only-child th {\n",
       "        text-align: right;\n",
       "    }\n",
       "\n",
       "    .dataframe thead th {\n",
       "        text-align: left;\n",
       "    }\n",
       "\n",
       "    .dataframe tbody tr th {\n",
       "        vertical-align: top;\n",
       "    }\n",
       "</style>\n",
       "<table border=\"1\" class=\"dataframe\">\n",
       "  <thead>\n",
       "    <tr style=\"text-align: right;\">\n",
       "      <th></th>\n",
       "      <th>0</th>\n",
       "      <th>1</th>\n",
       "      <th>2</th>\n",
       "      <th>3</th>\n",
       "      <th>4</th>\n",
       "      <th>5</th>\n",
       "      <th>6</th>\n",
       "      <th>7</th>\n",
       "    </tr>\n",
       "  </thead>\n",
       "  <tbody>\n",
       "    <tr>\n",
       "      <th>0</th>\n",
       "      <td>Malwani</td>\n",
       "      <td>Goan</td>\n",
       "      <td>North Indian</td>\n",
       "      <td>None</td>\n",
       "      <td>None</td>\n",
       "      <td>None</td>\n",
       "      <td>None</td>\n",
       "      <td>None</td>\n",
       "    </tr>\n",
       "    <tr>\n",
       "      <th>1</th>\n",
       "      <td>Asian</td>\n",
       "      <td>Modern Indian</td>\n",
       "      <td>Japanese</td>\n",
       "      <td>None</td>\n",
       "      <td>None</td>\n",
       "      <td>None</td>\n",
       "      <td>None</td>\n",
       "      <td>None</td>\n",
       "    </tr>\n",
       "    <tr>\n",
       "      <th>2</th>\n",
       "      <td>North Indian</td>\n",
       "      <td>Chinese</td>\n",
       "      <td>Biryani</td>\n",
       "      <td>Hyderabadi</td>\n",
       "      <td>None</td>\n",
       "      <td>None</td>\n",
       "      <td>None</td>\n",
       "      <td>None</td>\n",
       "    </tr>\n",
       "    <tr>\n",
       "      <th>3</th>\n",
       "      <td>Tibetan</td>\n",
       "      <td>Chinese</td>\n",
       "      <td>None</td>\n",
       "      <td>None</td>\n",
       "      <td>None</td>\n",
       "      <td>None</td>\n",
       "      <td>None</td>\n",
       "      <td>None</td>\n",
       "    </tr>\n",
       "    <tr>\n",
       "      <th>4</th>\n",
       "      <td>Desserts</td>\n",
       "      <td>None</td>\n",
       "      <td>None</td>\n",
       "      <td>None</td>\n",
       "      <td>None</td>\n",
       "      <td>None</td>\n",
       "      <td>None</td>\n",
       "      <td>None</td>\n",
       "    </tr>\n",
       "  </tbody>\n",
       "</table>\n",
       "</div>"
      ],
      "text/plain": [
       "              0               1              2            3     4     5     6  \\\n",
       "0       Malwani            Goan   North Indian         None  None  None  None   \n",
       "1         Asian   Modern Indian       Japanese         None  None  None  None   \n",
       "2  North Indian         Chinese        Biryani   Hyderabadi  None  None  None   \n",
       "3       Tibetan         Chinese           None         None  None  None  None   \n",
       "4      Desserts            None           None         None  None  None  None   \n",
       "\n",
       "      7  \n",
       "0  None  \n",
       "1  None  \n",
       "2  None  \n",
       "3  None  \n",
       "4  None  "
      ]
     },
     "execution_count": 399,
     "metadata": {},
     "output_type": "execute_result"
    }
   ],
   "source": [
    "raw_data['CUISINES'].str.split(\",\",expand = True).head(5)\n",
    "# Max 8 cusines in any given row"
   ]
  },
  {
   "cell_type": "code",
   "execution_count": 400,
   "metadata": {},
   "outputs": [
    {
     "data": {
      "text/plain": [
       "123"
      ]
     },
     "execution_count": 400,
     "metadata": {},
     "output_type": "execute_result"
    }
   ],
   "source": [
    "len(raw_data['TITLE'].unique())"
   ]
  },
  {
   "cell_type": "code",
   "execution_count": 401,
   "metadata": {
    "collapsed": true
   },
   "outputs": [],
   "source": [
    "raw_data['TITLE_1'] = raw_data['TITLE'].str.split(\",\",expand = True)[0]\n",
    "raw_data['TITLE_2'] = raw_data['TITLE'].str.split(\",\",expand = True)[1]"
   ]
  },
  {
   "cell_type": "code",
   "execution_count": 402,
   "metadata": {
    "collapsed": true
   },
   "outputs": [],
   "source": [
    "raw_data.drop(['TITLE'],inplace=True,axis=1)"
   ]
  },
  {
   "cell_type": "code",
   "execution_count": 403,
   "metadata": {},
   "outputs": [
    {
     "data": {
      "text/html": [
       "<div>\n",
       "<style>\n",
       "    .dataframe thead tr:only-child th {\n",
       "        text-align: right;\n",
       "    }\n",
       "\n",
       "    .dataframe thead th {\n",
       "        text-align: left;\n",
       "    }\n",
       "\n",
       "    .dataframe tbody tr th {\n",
       "        vertical-align: top;\n",
       "    }\n",
       "</style>\n",
       "<table border=\"1\" class=\"dataframe\">\n",
       "  <thead>\n",
       "    <tr style=\"text-align: right;\">\n",
       "      <th></th>\n",
       "      <th>CITY</th>\n",
       "      <th>CUISINES</th>\n",
       "      <th>LOCALITY</th>\n",
       "      <th>RATING</th>\n",
       "      <th>TIME</th>\n",
       "      <th>VOTES</th>\n",
       "      <th>source</th>\n",
       "      <th>COST</th>\n",
       "      <th>TITLE_1</th>\n",
       "      <th>TITLE_2</th>\n",
       "    </tr>\n",
       "  </thead>\n",
       "  <tbody>\n",
       "    <tr>\n",
       "      <th>0</th>\n",
       "      <td>Thane</td>\n",
       "      <td>Malwani, Goan, North Indian</td>\n",
       "      <td>Dombivali East</td>\n",
       "      <td>3.6</td>\n",
       "      <td>11am – 4pm, 7:30pm – 11:30pm (Mon-Sun)</td>\n",
       "      <td>49 votes</td>\n",
       "      <td>train</td>\n",
       "      <td>1200.0</td>\n",
       "      <td>CASUAL DINING</td>\n",
       "      <td>None</td>\n",
       "    </tr>\n",
       "    <tr>\n",
       "      <th>1</th>\n",
       "      <td>Chennai</td>\n",
       "      <td>Asian, Modern Indian, Japanese</td>\n",
       "      <td>Ramapuram</td>\n",
       "      <td>4.2</td>\n",
       "      <td>6pm – 11pm (Mon-Sun)</td>\n",
       "      <td>30 votes</td>\n",
       "      <td>train</td>\n",
       "      <td>1500.0</td>\n",
       "      <td>CASUAL DINING</td>\n",
       "      <td>BAR</td>\n",
       "    </tr>\n",
       "    <tr>\n",
       "      <th>2</th>\n",
       "      <td>Chennai</td>\n",
       "      <td>North Indian, Chinese, Biryani, Hyderabadi</td>\n",
       "      <td>Saligramam</td>\n",
       "      <td>3.8</td>\n",
       "      <td>11am – 3:30pm, 7pm – 11pm (Mon-Sun)</td>\n",
       "      <td>221 votes</td>\n",
       "      <td>train</td>\n",
       "      <td>800.0</td>\n",
       "      <td>CASUAL DINING</td>\n",
       "      <td>None</td>\n",
       "    </tr>\n",
       "    <tr>\n",
       "      <th>3</th>\n",
       "      <td>Mumbai</td>\n",
       "      <td>Tibetan, Chinese</td>\n",
       "      <td>Bandra West</td>\n",
       "      <td>4.1</td>\n",
       "      <td>11:30am – 1am (Mon-Sun)</td>\n",
       "      <td>24 votes</td>\n",
       "      <td>train</td>\n",
       "      <td>800.0</td>\n",
       "      <td>QUICK BITES</td>\n",
       "      <td>None</td>\n",
       "    </tr>\n",
       "    <tr>\n",
       "      <th>4</th>\n",
       "      <td>Mumbai</td>\n",
       "      <td>Desserts</td>\n",
       "      <td>Lower Parel</td>\n",
       "      <td>3.8</td>\n",
       "      <td>11am – 1am (Mon-Sun)</td>\n",
       "      <td>165 votes</td>\n",
       "      <td>train</td>\n",
       "      <td>300.0</td>\n",
       "      <td>DESSERT PARLOR</td>\n",
       "      <td>None</td>\n",
       "    </tr>\n",
       "  </tbody>\n",
       "</table>\n",
       "</div>"
      ],
      "text/plain": [
       "      CITY                                    CUISINES        LOCALITY RATING  \\\n",
       "0    Thane                 Malwani, Goan, North Indian  Dombivali East    3.6   \n",
       "1  Chennai              Asian, Modern Indian, Japanese       Ramapuram    4.2   \n",
       "2  Chennai  North Indian, Chinese, Biryani, Hyderabadi      Saligramam    3.8   \n",
       "3   Mumbai                            Tibetan, Chinese     Bandra West    4.1   \n",
       "4   Mumbai                                    Desserts     Lower Parel    3.8   \n",
       "\n",
       "                                     TIME      VOTES source    COST  \\\n",
       "0  11am – 4pm, 7:30pm – 11:30pm (Mon-Sun)   49 votes  train  1200.0   \n",
       "1                    6pm – 11pm (Mon-Sun)   30 votes  train  1500.0   \n",
       "2     11am – 3:30pm, 7pm – 11pm (Mon-Sun)  221 votes  train   800.0   \n",
       "3                 11:30am – 1am (Mon-Sun)   24 votes  train   800.0   \n",
       "4                    11am – 1am (Mon-Sun)  165 votes  train   300.0   \n",
       "\n",
       "          TITLE_1 TITLE_2  \n",
       "0   CASUAL DINING    None  \n",
       "1   CASUAL DINING     BAR  \n",
       "2   CASUAL DINING    None  \n",
       "3     QUICK BITES    None  \n",
       "4  DESSERT PARLOR    None  "
      ]
     },
     "execution_count": 403,
     "metadata": {},
     "output_type": "execute_result"
    }
   ],
   "source": [
    "raw_data.head(5)"
   ]
  },
  {
   "cell_type": "code",
   "execution_count": 404,
   "metadata": {},
   "outputs": [
    {
     "data": {
      "text/plain": [
       "1036"
      ]
     },
     "execution_count": 404,
     "metadata": {},
     "output_type": "execute_result"
    }
   ],
   "source": [
    "len( raw_data['LOCALITY'].str.split(\" \",expand = True)[0].unique())"
   ]
  },
  {
   "cell_type": "code",
   "execution_count": 405,
   "metadata": {
    "collapsed": true
   },
   "outputs": [],
   "source": [
    "def mapping(df,col,n=25):\n",
    " print(col,n)\n",
    " vc = df[col].value_counts()\n",
    " replacements = {}\n",
    " for col, s in vc.items():\n",
    "    if s[s<n].any():\n",
    "        replacements[col] = 'other'\n",
    " return replacements"
   ]
  },
  {
   "cell_type": "code",
   "execution_count": 406,
   "metadata": {},
   "outputs": [
    {
     "data": {
      "image/png": "[encoded data removed]",
      "text/plain": [
       "<matplotlib.figure.Figure at 0x1a16d3ef60>"
      ]
     },
     "metadata": {},
     "output_type": "display_data"
    }
   ],
   "source": [
    "sns.boxplot(x='TITLE_1',y='COST', data=raw_data)\n",
    "sns.set(rc={'figure.figsize':(40,30)})\n",
    "sns.set(font_scale=1)   \n",
    "plt.show()"
   ]
  },
  {
   "cell_type": "code",
   "execution_count": 407,
   "metadata": {},
   "outputs": [
    {
     "data": {
      "text/plain": [
       "CITY            0\n",
       "CUISINES        0\n",
       "LOCALITY        0\n",
       "RATING          0\n",
       "TIME            0\n",
       "VOTES           0\n",
       "source          0\n",
       "COST         4231\n",
       "TITLE_1         0\n",
       "TITLE_2     14977\n",
       "dtype: int64"
      ]
     },
     "execution_count": 407,
     "metadata": {},
     "output_type": "execute_result"
    }
   ],
   "source": [
    "raw_data.isnull().sum()"
   ]
  },
  {
   "cell_type": "code",
   "execution_count": 408,
   "metadata": {
    "collapsed": true
   },
   "outputs": [],
   "source": [
    "raw_data['TITLE_2'].fillna(\"None\", inplace=True)"
   ]
  },
  {
   "cell_type": "code",
   "execution_count": 409,
   "metadata": {},
   "outputs": [
    {
     "data": {
      "text/plain": [
       "CITY           0\n",
       "CUISINES       0\n",
       "LOCALITY       0\n",
       "RATING         0\n",
       "TIME           0\n",
       "VOTES          0\n",
       "source         0\n",
       "COST        4231\n",
       "TITLE_1        0\n",
       "TITLE_2        0\n",
       "dtype: int64"
      ]
     },
     "execution_count": 409,
     "metadata": {},
     "output_type": "execute_result"
    }
   ],
   "source": [
    "raw_data.isnull().sum()"
   ]
  },
  {
   "cell_type": "code",
   "execution_count": 410,
   "metadata": {
    "collapsed": true
   },
   "outputs": [],
   "source": [
    "raw_data['CUISINES_1'] = raw_data['CUISINES'].str.split(\",\",expand = True)[0]\n",
    "raw_data['CUISINES_2'] = raw_data['CUISINES'].str.split(\",\",expand = True)[1]\n",
    "raw_data['CUISINES_3'] = raw_data['CUISINES'].str.split(\",\",expand = True)[2]\n",
    "raw_data['CUISINES_4'] = raw_data['CUISINES'].str.split(\",\",expand = True)[3]\n",
    "raw_data['CUISINES_5'] = raw_data['CUISINES'].str.split(\",\",expand = True)[4]\n",
    "raw_data['CUISINES_6'] = raw_data['CUISINES'].str.split(\",\",expand = True)[5]\n",
    "raw_data['CUISINES_7'] = raw_data['CUISINES'].str.split(\",\",expand = True)[6]\n",
    "raw_data['CUISINES_8'] = raw_data['CUISINES'].str.split(\",\",expand = True)[7]"
   ]
  },
  {
   "cell_type": "code",
   "execution_count": 411,
   "metadata": {},
   "outputs": [
    {
     "data": {
      "text/plain": [
       "CITY              0\n",
       "CUISINES          0\n",
       "LOCALITY          0\n",
       "RATING            0\n",
       "TIME              0\n",
       "VOTES             0\n",
       "source            0\n",
       "COST           4231\n",
       "TITLE_1           0\n",
       "TITLE_2           0\n",
       "CUISINES_1        0\n",
       "CUISINES_2     4047\n",
       "CUISINES_3     9330\n",
       "CUISINES_4    13309\n",
       "CUISINES_5    15550\n",
       "CUISINES_6    16370\n",
       "CUISINES_7    16671\n",
       "CUISINES_8    16813\n",
       "dtype: int64"
      ]
     },
     "execution_count": 411,
     "metadata": {},
     "output_type": "execute_result"
    }
   ],
   "source": [
    "raw_data.isnull().sum()"
   ]
  },
  {
   "cell_type": "code",
   "execution_count": 412,
   "metadata": {
    "collapsed": true
   },
   "outputs": [],
   "source": [
    "cus_list = []\n",
    "for i in range(1,9):\n",
    "    i = str(i)\n",
    "    cus_list.append(\"CUISINES_\"+i)\n",
    "    "
   ]
  },
  {
   "cell_type": "code",
   "execution_count": 413,
   "metadata": {
    "collapsed": true
   },
   "outputs": [],
   "source": [
    "for i in cus_list:\n",
    "    raw_data[i].fillna(\"NAA\", inplace=True)\n",
    "all_cuisines.append(\"NAA\")"
   ]
  },
  {
   "cell_type": "code",
   "execution_count": 414,
   "metadata": {},
   "outputs": [
    {
     "data": {
      "text/plain": [
       "CITY             0\n",
       "CUISINES         0\n",
       "LOCALITY         0\n",
       "RATING           0\n",
       "TIME             0\n",
       "VOTES            0\n",
       "source           0\n",
       "COST          4231\n",
       "TITLE_1          0\n",
       "TITLE_2          0\n",
       "CUISINES_1       0\n",
       "CUISINES_2       0\n",
       "CUISINES_3       0\n",
       "CUISINES_4       0\n",
       "CUISINES_5       0\n",
       "CUISINES_6       0\n",
       "CUISINES_7       0\n",
       "CUISINES_8       0\n",
       "dtype: int64"
      ]
     },
     "execution_count": 414,
     "metadata": {},
     "output_type": "execute_result"
    }
   ],
   "source": [
    "raw_data.isnull().sum()"
   ]
  },
  {
   "cell_type": "code",
   "execution_count": 415,
   "metadata": {},
   "outputs": [
    {
     "data": {
      "text/plain": [
       "CITY           object\n",
       "CUISINES       object\n",
       "LOCALITY       object\n",
       "RATING         object\n",
       "TIME           object\n",
       "VOTES          object\n",
       "source         object\n",
       "COST          float64\n",
       "TITLE_1        object\n",
       "TITLE_2        object\n",
       "CUISINES_1     object\n",
       "CUISINES_2     object\n",
       "CUISINES_3     object\n",
       "CUISINES_4     object\n",
       "CUISINES_5     object\n",
       "CUISINES_6     object\n",
       "CUISINES_7     object\n",
       "CUISINES_8     object\n",
       "dtype: object"
      ]
     },
     "execution_count": 415,
     "metadata": {},
     "output_type": "execute_result"
    }
   ],
   "source": [
    "raw_data.dtypes"
   ]
  },
  {
   "cell_type": "code",
   "execution_count": 416,
   "metadata": {
    "collapsed": true
   },
   "outputs": [],
   "source": [
    "raw_data['VOTES'] = raw_data['VOTES'].str.split(\" \", expand=True)[0]\n",
    "raw_data['VOTES']  = pd.to_numeric(raw_data['VOTES'])"
   ]
  },
  {
   "cell_type": "code",
   "execution_count": 417,
   "metadata": {},
   "outputs": [
    {
     "data": {
      "text/plain": [
       "CITY           object\n",
       "CUISINES       object\n",
       "LOCALITY       object\n",
       "RATING         object\n",
       "TIME           object\n",
       "VOTES           int64\n",
       "source         object\n",
       "COST          float64\n",
       "TITLE_1        object\n",
       "TITLE_2        object\n",
       "CUISINES_1     object\n",
       "CUISINES_2     object\n",
       "CUISINES_3     object\n",
       "CUISINES_4     object\n",
       "CUISINES_5     object\n",
       "CUISINES_6     object\n",
       "CUISINES_7     object\n",
       "CUISINES_8     object\n",
       "dtype: object"
      ]
     },
     "execution_count": 417,
     "metadata": {},
     "output_type": "execute_result"
    }
   ],
   "source": [
    "raw_data.dtypes"
   ]
  },
  {
   "cell_type": "code",
   "execution_count": 418,
   "metadata": {
    "collapsed": true
   },
   "outputs": [],
   "source": [
    "rates = list(raw_data['RATING'])\n",
    "\n",
    "for i in range(len(rates)) :\n",
    "    try:\n",
    "       rates[i] = float(rates[i])\n",
    "    except :\n",
    "       rates[i] = np.nan"
   ]
  },
  {
   "cell_type": "code",
   "execution_count": 419,
   "metadata": {
    "collapsed": true
   },
   "outputs": [],
   "source": [
    "raw_data['RATING'] = rates"
   ]
  },
  {
   "cell_type": "code",
   "execution_count": 420,
   "metadata": {},
   "outputs": [
    {
     "data": {
      "text/plain": [
       "CITY             0\n",
       "CUISINES         0\n",
       "LOCALITY         0\n",
       "RATING        1602\n",
       "TIME             0\n",
       "VOTES            0\n",
       "source           0\n",
       "COST          4231\n",
       "TITLE_1          0\n",
       "TITLE_2          0\n",
       "CUISINES_1       0\n",
       "CUISINES_2       0\n",
       "CUISINES_3       0\n",
       "CUISINES_4       0\n",
       "CUISINES_5       0\n",
       "CUISINES_6       0\n",
       "CUISINES_7       0\n",
       "CUISINES_8       0\n",
       "dtype: int64"
      ]
     },
     "execution_count": 420,
     "metadata": {},
     "output_type": "execute_result"
    }
   ],
   "source": [
    "raw_data.isnull().sum()"
   ]
  },
  {
   "cell_type": "code",
   "execution_count": 421,
   "metadata": {
    "collapsed": true
   },
   "outputs": [],
   "source": [
    "raw_data['RATING'].fillna(0.0,inplace=True)"
   ]
  },
  {
   "cell_type": "code",
   "execution_count": 422,
   "metadata": {},
   "outputs": [
    {
     "data": {
      "text/plain": [
       "CITY             0\n",
       "CUISINES         0\n",
       "LOCALITY         0\n",
       "RATING           0\n",
       "TIME             0\n",
       "VOTES            0\n",
       "source           0\n",
       "COST          4231\n",
       "TITLE_1          0\n",
       "TITLE_2          0\n",
       "CUISINES_1       0\n",
       "CUISINES_2       0\n",
       "CUISINES_3       0\n",
       "CUISINES_4       0\n",
       "CUISINES_5       0\n",
       "CUISINES_6       0\n",
       "CUISINES_7       0\n",
       "CUISINES_8       0\n",
       "dtype: int64"
      ]
     },
     "execution_count": 422,
     "metadata": {},
     "output_type": "execute_result"
    }
   ],
   "source": [
    "raw_data.isnull().sum()"
   ]
  },
  {
   "cell_type": "code",
   "execution_count": 423,
   "metadata": {},
   "outputs": [
    {
     "data": {
      "text/plain": [
       "CITY           object\n",
       "CUISINES       object\n",
       "LOCALITY       object\n",
       "RATING        float64\n",
       "TIME           object\n",
       "VOTES           int64\n",
       "source         object\n",
       "COST          float64\n",
       "TITLE_1        object\n",
       "TITLE_2        object\n",
       "CUISINES_1     object\n",
       "CUISINES_2     object\n",
       "CUISINES_3     object\n",
       "CUISINES_4     object\n",
       "CUISINES_5     object\n",
       "CUISINES_6     object\n",
       "CUISINES_7     object\n",
       "CUISINES_8     object\n",
       "dtype: object"
      ]
     },
     "execution_count": 423,
     "metadata": {},
     "output_type": "execute_result"
    }
   ],
   "source": [
    "raw_data.dtypes"
   ]
  },
  {
   "cell_type": "code",
   "execution_count": 424,
   "metadata": {
    "collapsed": true
   },
   "outputs": [],
   "source": [
    "raw_data.drop(['TIME'], inplace=True,axis=1)"
   ]
  },
  {
   "cell_type": "code",
   "execution_count": 425,
   "metadata": {
    "collapsed": true
   },
   "outputs": [],
   "source": [
    "raw_data.drop(['CUISINES'], inplace=True,axis=1)"
   ]
  },
  {
   "cell_type": "code",
   "execution_count": 426,
   "metadata": {},
   "outputs": [
    {
     "data": {
      "text/plain": [
       "Index(['CITY', 'LOCALITY', 'RATING', 'VOTES', 'source', 'COST', 'TITLE_1',\n",
       "       'TITLE_2', 'CUISINES_1', 'CUISINES_2', 'CUISINES_3', 'CUISINES_4',\n",
       "       'CUISINES_5', 'CUISINES_6', 'CUISINES_7', 'CUISINES_8'],\n",
       "      dtype='object')"
      ]
     },
     "execution_count": 426,
     "metadata": {},
     "output_type": "execute_result"
    }
   ],
   "source": [
    "raw_data.columns"
   ]
  },
  {
   "cell_type": "code",
   "execution_count": 427,
   "metadata": {
    "collapsed": true
   },
   "outputs": [],
   "source": [
    "raw_data = raw_data[['CITY', 'LOCALITY', 'RATING', 'VOTES', 'source', 'TITLE_1',\n",
    "       'TITLE_2', 'CUISINES_1', 'CUISINES_2', 'CUISINES_3', 'CUISINES_4',\n",
    "       'CUISINES_5', 'CUISINES_6', 'CUISINES_7', 'CUISINES_8','COST']]"
   ]
  },
  {
   "cell_type": "code",
   "execution_count": 428,
   "metadata": {},
   "outputs": [
    {
     "data": {
      "text/html": [
       "<div>\n",
       "<style>\n",
       "    .dataframe thead tr:only-child th {\n",
       "        text-align: right;\n",
       "    }\n",
       "\n",
       "    .dataframe thead th {\n",
       "        text-align: left;\n",
       "    }\n",
       "\n",
       "    .dataframe tbody tr th {\n",
       "        vertical-align: top;\n",
       "    }\n",
       "</style>\n",
       "<table border=\"1\" class=\"dataframe\">\n",
       "  <thead>\n",
       "    <tr style=\"text-align: right;\">\n",
       "      <th></th>\n",
       "      <th>CITY</th>\n",
       "      <th>LOCALITY</th>\n",
       "      <th>RATING</th>\n",
       "      <th>VOTES</th>\n",
       "      <th>source</th>\n",
       "      <th>TITLE_1</th>\n",
       "      <th>TITLE_2</th>\n",
       "      <th>CUISINES_1</th>\n",
       "      <th>CUISINES_2</th>\n",
       "      <th>CUISINES_3</th>\n",
       "      <th>CUISINES_4</th>\n",
       "      <th>CUISINES_5</th>\n",
       "      <th>CUISINES_6</th>\n",
       "      <th>CUISINES_7</th>\n",
       "      <th>CUISINES_8</th>\n",
       "      <th>COST</th>\n",
       "    </tr>\n",
       "  </thead>\n",
       "  <tbody>\n",
       "    <tr>\n",
       "      <th>0</th>\n",
       "      <td>Thane</td>\n",
       "      <td>Dombivali East</td>\n",
       "      <td>3.6</td>\n",
       "      <td>49</td>\n",
       "      <td>train</td>\n",
       "      <td>CASUAL DINING</td>\n",
       "      <td>None</td>\n",
       "      <td>Malwani</td>\n",
       "      <td>Goan</td>\n",
       "      <td>North Indian</td>\n",
       "      <td>NAA</td>\n",
       "      <td>NAA</td>\n",
       "      <td>NAA</td>\n",
       "      <td>NAA</td>\n",
       "      <td>NAA</td>\n",
       "      <td>1200.0</td>\n",
       "    </tr>\n",
       "    <tr>\n",
       "      <th>1</th>\n",
       "      <td>Chennai</td>\n",
       "      <td>Ramapuram</td>\n",
       "      <td>4.2</td>\n",
       "      <td>30</td>\n",
       "      <td>train</td>\n",
       "      <td>CASUAL DINING</td>\n",
       "      <td>BAR</td>\n",
       "      <td>Asian</td>\n",
       "      <td>Modern Indian</td>\n",
       "      <td>Japanese</td>\n",
       "      <td>NAA</td>\n",
       "      <td>NAA</td>\n",
       "      <td>NAA</td>\n",
       "      <td>NAA</td>\n",
       "      <td>NAA</td>\n",
       "      <td>1500.0</td>\n",
       "    </tr>\n",
       "    <tr>\n",
       "      <th>2</th>\n",
       "      <td>Chennai</td>\n",
       "      <td>Saligramam</td>\n",
       "      <td>3.8</td>\n",
       "      <td>221</td>\n",
       "      <td>train</td>\n",
       "      <td>CASUAL DINING</td>\n",
       "      <td>None</td>\n",
       "      <td>North Indian</td>\n",
       "      <td>Chinese</td>\n",
       "      <td>Biryani</td>\n",
       "      <td>Hyderabadi</td>\n",
       "      <td>NAA</td>\n",
       "      <td>NAA</td>\n",
       "      <td>NAA</td>\n",
       "      <td>NAA</td>\n",
       "      <td>800.0</td>\n",
       "    </tr>\n",
       "    <tr>\n",
       "      <th>3</th>\n",
       "      <td>Mumbai</td>\n",
       "      <td>Bandra West</td>\n",
       "      <td>4.1</td>\n",
       "      <td>24</td>\n",
       "      <td>train</td>\n",
       "      <td>QUICK BITES</td>\n",
       "      <td>None</td>\n",
       "      <td>Tibetan</td>\n",
       "      <td>Chinese</td>\n",
       "      <td>NAA</td>\n",
       "      <td>NAA</td>\n",
       "      <td>NAA</td>\n",
       "      <td>NAA</td>\n",
       "      <td>NAA</td>\n",
       "      <td>NAA</td>\n",
       "      <td>800.0</td>\n",
       "    </tr>\n",
       "    <tr>\n",
       "      <th>4</th>\n",
       "      <td>Mumbai</td>\n",
       "      <td>Lower Parel</td>\n",
       "      <td>3.8</td>\n",
       "      <td>165</td>\n",
       "      <td>train</td>\n",
       "      <td>DESSERT PARLOR</td>\n",
       "      <td>None</td>\n",
       "      <td>Desserts</td>\n",
       "      <td>NAA</td>\n",
       "      <td>NAA</td>\n",
       "      <td>NAA</td>\n",
       "      <td>NAA</td>\n",
       "      <td>NAA</td>\n",
       "      <td>NAA</td>\n",
       "      <td>NAA</td>\n",
       "      <td>300.0</td>\n",
       "    </tr>\n",
       "    <tr>\n",
       "      <th>5</th>\n",
       "      <td>Mumbai</td>\n",
       "      <td>Vile Parle West</td>\n",
       "      <td>4.0</td>\n",
       "      <td>550</td>\n",
       "      <td>train</td>\n",
       "      <td>CASUAL DINING</td>\n",
       "      <td>None</td>\n",
       "      <td>North Indian</td>\n",
       "      <td>Chinese</td>\n",
       "      <td>Seafood</td>\n",
       "      <td>Biryani</td>\n",
       "      <td>NAA</td>\n",
       "      <td>NAA</td>\n",
       "      <td>NAA</td>\n",
       "      <td>NAA</td>\n",
       "      <td>800.0</td>\n",
       "    </tr>\n",
       "    <tr>\n",
       "      <th>6</th>\n",
       "      <td>Bangalore</td>\n",
       "      <td>Koramangala 6th Block</td>\n",
       "      <td>4.1</td>\n",
       "      <td>509</td>\n",
       "      <td>train</td>\n",
       "      <td>CAFÉ</td>\n",
       "      <td>None</td>\n",
       "      <td>Cafe</td>\n",
       "      <td>Chinese</td>\n",
       "      <td>Pizza</td>\n",
       "      <td>North Indian</td>\n",
       "      <td>Burger</td>\n",
       "      <td>NAA</td>\n",
       "      <td>NAA</td>\n",
       "      <td>NAA</td>\n",
       "      <td>600.0</td>\n",
       "    </tr>\n",
       "    <tr>\n",
       "      <th>7</th>\n",
       "      <td>Gurgaon</td>\n",
       "      <td>Sector 29</td>\n",
       "      <td>4.3</td>\n",
       "      <td>1612</td>\n",
       "      <td>train</td>\n",
       "      <td>MICROBREWERY</td>\n",
       "      <td>None</td>\n",
       "      <td>Bar Food</td>\n",
       "      <td>NAA</td>\n",
       "      <td>NAA</td>\n",
       "      <td>NAA</td>\n",
       "      <td>NAA</td>\n",
       "      <td>NAA</td>\n",
       "      <td>NAA</td>\n",
       "      <td>NAA</td>\n",
       "      <td>1600.0</td>\n",
       "    </tr>\n",
       "    <tr>\n",
       "      <th>8</th>\n",
       "      <td>Bangalore</td>\n",
       "      <td>Bannerghatta Road</td>\n",
       "      <td>3.9</td>\n",
       "      <td>101</td>\n",
       "      <td>train</td>\n",
       "      <td>QUICK BITES</td>\n",
       "      <td>None</td>\n",
       "      <td>South Indian</td>\n",
       "      <td>North Indian</td>\n",
       "      <td>NAA</td>\n",
       "      <td>NAA</td>\n",
       "      <td>NAA</td>\n",
       "      <td>NAA</td>\n",
       "      <td>NAA</td>\n",
       "      <td>NAA</td>\n",
       "      <td>300.0</td>\n",
       "    </tr>\n",
       "    <tr>\n",
       "      <th>9</th>\n",
       "      <td>Hyderabad</td>\n",
       "      <td>Dilsukhnagar</td>\n",
       "      <td>3.3</td>\n",
       "      <td>219</td>\n",
       "      <td>train</td>\n",
       "      <td>QUICK BITES</td>\n",
       "      <td>None</td>\n",
       "      <td>North Indian</td>\n",
       "      <td>NAA</td>\n",
       "      <td>NAA</td>\n",
       "      <td>NAA</td>\n",
       "      <td>NAA</td>\n",
       "      <td>NAA</td>\n",
       "      <td>NAA</td>\n",
       "      <td>NAA</td>\n",
       "      <td>200.0</td>\n",
       "    </tr>\n",
       "  </tbody>\n",
       "</table>\n",
       "</div>"
      ],
      "text/plain": [
       "        CITY               LOCALITY  RATING  VOTES source         TITLE_1  \\\n",
       "0      Thane         Dombivali East     3.6     49  train   CASUAL DINING   \n",
       "1    Chennai              Ramapuram     4.2     30  train   CASUAL DINING   \n",
       "2    Chennai             Saligramam     3.8    221  train   CASUAL DINING   \n",
       "3     Mumbai            Bandra West     4.1     24  train     QUICK BITES   \n",
       "4     Mumbai            Lower Parel     3.8    165  train  DESSERT PARLOR   \n",
       "5     Mumbai        Vile Parle West     4.0    550  train   CASUAL DINING   \n",
       "6  Bangalore  Koramangala 6th Block     4.1    509  train            CAFÉ   \n",
       "7    Gurgaon              Sector 29     4.3   1612  train    MICROBREWERY   \n",
       "8  Bangalore      Bannerghatta Road     3.9    101  train     QUICK BITES   \n",
       "9  Hyderabad           Dilsukhnagar     3.3    219  train     QUICK BITES   \n",
       "\n",
       "  TITLE_2    CUISINES_1      CUISINES_2     CUISINES_3     CUISINES_4  \\\n",
       "0    None       Malwani            Goan   North Indian            NAA   \n",
       "1     BAR         Asian   Modern Indian       Japanese            NAA   \n",
       "2    None  North Indian         Chinese        Biryani     Hyderabadi   \n",
       "3    None       Tibetan         Chinese            NAA            NAA   \n",
       "4    None      Desserts             NAA            NAA            NAA   \n",
       "5    None  North Indian         Chinese        Seafood        Biryani   \n",
       "6    None          Cafe         Chinese          Pizza   North Indian   \n",
       "7    None      Bar Food             NAA            NAA            NAA   \n",
       "8    None  South Indian    North Indian            NAA            NAA   \n",
       "9    None  North Indian             NAA            NAA            NAA   \n",
       "\n",
       "  CUISINES_5 CUISINES_6 CUISINES_7 CUISINES_8    COST  \n",
       "0        NAA        NAA        NAA        NAA  1200.0  \n",
       "1        NAA        NAA        NAA        NAA  1500.0  \n",
       "2        NAA        NAA        NAA        NAA   800.0  \n",
       "3        NAA        NAA        NAA        NAA   800.0  \n",
       "4        NAA        NAA        NAA        NAA   300.0  \n",
       "5        NAA        NAA        NAA        NAA   800.0  \n",
       "6     Burger        NAA        NAA        NAA   600.0  \n",
       "7        NAA        NAA        NAA        NAA  1600.0  \n",
       "8        NAA        NAA        NAA        NAA   300.0  \n",
       "9        NAA        NAA        NAA        NAA   200.0  "
      ]
     },
     "execution_count": 428,
     "metadata": {},
     "output_type": "execute_result"
    }
   ],
   "source": [
    "raw_data.head(10)"
   ]
  },
  {
   "cell_type": "code",
   "execution_count": 429,
   "metadata": {},
   "outputs": [
    {
     "data": {
      "image/png": "[encoded data removed]",
      "text/plain": [
       "<matplotlib.figure.Figure at 0x1a1b310780>"
      ]
     },
     "metadata": {},
     "output_type": "display_data"
    }
   ],
   "source": [
    "#correlation matrix\n",
    "corrmat = raw_data.corr()\n",
    "f, ax = plt.subplots(figsize=(12, 9))\n",
    "sns.heatmap(corrmat, vmax=.8, square=True);\n",
    "plt.show()"
   ]
  },
  {
   "cell_type": "code",
   "execution_count": 430,
   "metadata": {},
   "outputs": [
    {
     "data": {
      "text/html": [
       "<div>\n",
       "<style>\n",
       "    .dataframe thead tr:only-child th {\n",
       "        text-align: right;\n",
       "    }\n",
       "\n",
       "    .dataframe thead th {\n",
       "        text-align: left;\n",
       "    }\n",
       "\n",
       "    .dataframe tbody tr th {\n",
       "        vertical-align: top;\n",
       "    }\n",
       "</style>\n",
       "<table border=\"1\" class=\"dataframe\">\n",
       "  <thead>\n",
       "    <tr style=\"text-align: right;\">\n",
       "      <th></th>\n",
       "      <th>RATING</th>\n",
       "      <th>VOTES</th>\n",
       "      <th>COST</th>\n",
       "    </tr>\n",
       "  </thead>\n",
       "  <tbody>\n",
       "    <tr>\n",
       "      <th>RATING</th>\n",
       "      <td>1.000000</td>\n",
       "      <td>0.261238</td>\n",
       "      <td>0.232358</td>\n",
       "    </tr>\n",
       "    <tr>\n",
       "      <th>VOTES</th>\n",
       "      <td>0.261238</td>\n",
       "      <td>1.000000</td>\n",
       "      <td>0.257231</td>\n",
       "    </tr>\n",
       "    <tr>\n",
       "      <th>COST</th>\n",
       "      <td>0.232358</td>\n",
       "      <td>0.257231</td>\n",
       "      <td>1.000000</td>\n",
       "    </tr>\n",
       "  </tbody>\n",
       "</table>\n",
       "</div>"
      ],
      "text/plain": [
       "          RATING     VOTES      COST\n",
       "RATING  1.000000  0.261238  0.232358\n",
       "VOTES   0.261238  1.000000  0.257231\n",
       "COST    0.232358  0.257231  1.000000"
      ]
     },
     "execution_count": 430,
     "metadata": {},
     "output_type": "execute_result"
    }
   ],
   "source": [
    "raw_data.corr()"
   ]
  },
  {
   "cell_type": "code",
   "execution_count": 431,
   "metadata": {},
   "outputs": [
    {
     "data": {
      "image/png": "[encoded data removed]",
      "text/plain": [
       "<matplotlib.figure.Figure at 0x1a1efdd0b8>"
      ]
     },
     "metadata": {},
     "output_type": "display_data"
    }
   ],
   "source": [
    "#scatter plot experince/saleprice\n",
    "\n",
    "var = 'RATING'\n",
    "data = pd.concat([raw_data['COST'], raw_data[var]], axis=1)\n",
    "#plt.figure(figsize=(40,20))\n",
    "#plt.xlabel('xlabel', fontsize=50)\n",
    "#plt.ylabel('ylabel', fontsize=50)\n",
    "data.plot.scatter(x=var, y='COST', figsize = (40,20), s=120,grid=True,fontsize=40,);\n",
    "plt.show()"
   ]
  },
  {
   "cell_type": "code",
   "execution_count": 432,
   "metadata": {},
   "outputs": [
    {
     "data": {
      "image/png": "[encoded data removed]",
      "text/plain": [
       "<matplotlib.figure.Figure at 0x1a1efdd7f0>"
      ]
     },
     "metadata": {},
     "output_type": "display_data"
    }
   ],
   "source": [
    "plt.figure(figsize=(40,20))\n",
    "plt.xlabel('xlabel', fontsize=50)\n",
    "plt.ylabel('ylabel', fontsize=50)\n",
    "sns.distplot(raw_data[\"RATING\"])\n",
    "plt.show()"
   ]
  },
  {
   "cell_type": "code",
   "execution_count": 433,
   "metadata": {},
   "outputs": [
    {
     "data": {
      "text/plain": [
       "count    16921.000000\n",
       "mean         3.425282\n",
       "std          1.180607\n",
       "min          0.000000\n",
       "25%          3.400000\n",
       "50%          3.800000\n",
       "75%          4.000000\n",
       "max          4.900000\n",
       "Name: RATING, dtype: float64"
      ]
     },
     "execution_count": 433,
     "metadata": {},
     "output_type": "execute_result"
    }
   ],
   "source": [
    "raw_data['RATING'].describe()"
   ]
  },
  {
   "cell_type": "code",
   "execution_count": 434,
   "metadata": {},
   "outputs": [
    {
     "data": {
      "text/plain": [
       "count    16921.000000\n",
       "mean       379.407836\n",
       "std        808.451565\n",
       "min          0.000000\n",
       "25%         40.000000\n",
       "50%        133.000000\n",
       "75%        409.000000\n",
       "max      41186.000000\n",
       "Name: VOTES, dtype: float64"
      ]
     },
     "execution_count": 434,
     "metadata": {},
     "output_type": "execute_result"
    }
   ],
   "source": [
    "raw_data['VOTES'].describe()"
   ]
  },
  {
   "cell_type": "code",
   "execution_count": 435,
   "metadata": {},
   "outputs": [
    {
     "data": {
      "image/png": "[encoded data removed]",
      "text/plain": [
       "<matplotlib.figure.Figure at 0x1a1d07fe48>"
      ]
     },
     "metadata": {},
     "output_type": "display_data"
    }
   ],
   "source": [
    "plt.figure(figsize=(40,20))\n",
    "plt.xlabel('xlabel', fontsize=50)\n",
    "plt.ylabel('ylabel', fontsize=50)\n",
    "sns.distplot(raw_data[\"VOTES\"])\n",
    "plt.show()"
   ]
  },
  {
   "cell_type": "code",
   "execution_count": 436,
   "metadata": {},
   "outputs": [
    {
     "data": {
      "text/plain": [
       "CITY             0\n",
       "LOCALITY         0\n",
       "RATING           0\n",
       "VOTES            0\n",
       "source           0\n",
       "TITLE_1          0\n",
       "TITLE_2          0\n",
       "CUISINES_1       0\n",
       "CUISINES_2       0\n",
       "CUISINES_3       0\n",
       "CUISINES_4       0\n",
       "CUISINES_5       0\n",
       "CUISINES_6       0\n",
       "CUISINES_7       0\n",
       "CUISINES_8       0\n",
       "COST          4231\n",
       "dtype: int64"
      ]
     },
     "execution_count": 436,
     "metadata": {},
     "output_type": "execute_result"
    }
   ],
   "source": [
    "raw_data.isnull().sum()"
   ]
  },
  {
   "cell_type": "code",
   "execution_count": 437,
   "metadata": {},
   "outputs": [
    {
     "name": "stdout",
     "output_type": "stream",
     "text": [
      "LOCALITY 40\n"
     ]
    }
   ],
   "source": [
    "def mapping(df,col,n=25):\n",
    " print(col,n)\n",
    " vc = df[col].value_counts()\n",
    " replacements = {}\n",
    " for col, s in vc.items():\n",
    "    if s[s<n].any():\n",
    "        replacements[col] = 'other'\n",
    " return replacements\n",
    "local = mapping(raw_data,'LOCALITY',n=40)\n",
    "raw_data['LOCALITY'] = raw_data['LOCALITY'].replace(local)"
   ]
  },
  {
   "cell_type": "code",
   "execution_count": 438,
   "metadata": {},
   "outputs": [
    {
     "data": {
      "text/plain": [
       "LabelEncoder()"
      ]
     },
     "execution_count": 438,
     "metadata": {},
     "output_type": "execute_result"
    }
   ],
   "source": [
    "from sklearn.preprocessing import LabelEncoder\n",
    "\n",
    "\n",
    "le_titles = LabelEncoder()\n",
    "le_cuisines = LabelEncoder()\n",
    "le_city = LabelEncoder()\n",
    "le_locality = LabelEncoder()\n",
    "\n",
    "\n",
    "le_titles.fit(all_titles)\n",
    "le_cuisines.fit(all_cuisines)\n",
    "\n",
    "le_city.fit(raw_data['CITY'])\n",
    "le_locality.fit(raw_data['LOCALITY'])"
   ]
  },
  {
   "cell_type": "code",
   "execution_count": 439,
   "metadata": {
    "collapsed": true
   },
   "outputs": [],
   "source": [
    "raw_data['TITLE_1']=raw_data['TITLE_1'].str.upper()\n",
    "raw_data['TITLE_2']=raw_data['TITLE_2'].str.upper()"
   ]
  },
  {
   "cell_type": "code",
   "execution_count": 440,
   "metadata": {
    "collapsed": true
   },
   "outputs": [],
   "source": [
    "for i in cus_list:\n",
    "    raw_data[i] = raw_data[i].str.upper()\n",
    "    raw_data[i] = raw_data[i].str.strip()"
   ]
  },
  {
   "cell_type": "code",
   "execution_count": null,
   "metadata": {
    "collapsed": true
   },
   "outputs": [],
   "source": []
  },
  {
   "cell_type": "code",
   "execution_count": 441,
   "metadata": {
    "collapsed": true,
    "scrolled": true
   },
   "outputs": [],
   "source": [
    "raw_data['TITLE_1'] = le_titles.transform(raw_data['TITLE_1'])\n",
    "raw_data['TITLE_2'] = le_titles.transform(raw_data['TITLE_2'])\n",
    "\n",
    "\n",
    "raw_data['CUISINES_1'] = le_cuisines.transform(raw_data['CUISINES_1'])\n",
    "raw_data['CUISINES_2'] = le_cuisines.transform(raw_data['CUISINES_2'])\n",
    "raw_data['CUISINES_3'] = le_cuisines.transform(raw_data['CUISINES_3'])\n",
    "raw_data['CUISINES_4'] = le_cuisines.transform(raw_data['CUISINES_4'])\n",
    "raw_data['CUISINES_5'] = le_cuisines.transform(raw_data['CUISINES_5'])\n",
    "raw_data['CUISINES_6'] = le_cuisines.transform(raw_data['CUISINES_6'])\n",
    "raw_data['CUISINES_7'] = le_cuisines.transform(raw_data['CUISINES_7'])\n",
    "raw_data['CUISINES_8'] = le_cuisines.transform(raw_data['CUISINES_8'])\n",
    "\n",
    "\n",
    "raw_data['CITY'] = le_city.transform(raw_data['CITY'])\n",
    "raw_data['LOCALITY'] = le_locality.transform(raw_data['LOCALITY'])"
   ]
  },
  {
   "cell_type": "code",
   "execution_count": 442,
   "metadata": {},
   "outputs": [
    {
     "data": {
      "text/html": [
       "<div>\n",
       "<style>\n",
       "    .dataframe thead tr:only-child th {\n",
       "        text-align: right;\n",
       "    }\n",
       "\n",
       "    .dataframe thead th {\n",
       "        text-align: left;\n",
       "    }\n",
       "\n",
       "    .dataframe tbody tr th {\n",
       "        vertical-align: top;\n",
       "    }\n",
       "</style>\n",
       "<table border=\"1\" class=\"dataframe\">\n",
       "  <thead>\n",
       "    <tr style=\"text-align: right;\">\n",
       "      <th></th>\n",
       "      <th>CITY</th>\n",
       "      <th>LOCALITY</th>\n",
       "      <th>RATING</th>\n",
       "      <th>VOTES</th>\n",
       "      <th>source</th>\n",
       "      <th>TITLE_1</th>\n",
       "      <th>TITLE_2</th>\n",
       "      <th>CUISINES_1</th>\n",
       "      <th>CUISINES_2</th>\n",
       "      <th>CUISINES_3</th>\n",
       "      <th>CUISINES_4</th>\n",
       "      <th>CUISINES_5</th>\n",
       "      <th>CUISINES_6</th>\n",
       "      <th>CUISINES_7</th>\n",
       "      <th>CUISINES_8</th>\n",
       "      <th>COST</th>\n",
       "    </tr>\n",
       "  </thead>\n",
       "  <tbody>\n",
       "    <tr>\n",
       "      <th>0</th>\n",
       "      <td>401</td>\n",
       "      <td>108</td>\n",
       "      <td>3.6</td>\n",
       "      <td>49</td>\n",
       "      <td>train</td>\n",
       "      <td>5</td>\n",
       "      <td>20</td>\n",
       "      <td>74</td>\n",
       "      <td>47</td>\n",
       "      <td>92</td>\n",
       "      <td>88</td>\n",
       "      <td>88</td>\n",
       "      <td>88</td>\n",
       "      <td>88</td>\n",
       "      <td>88</td>\n",
       "      <td>1200.0</td>\n",
       "    </tr>\n",
       "    <tr>\n",
       "      <th>1</th>\n",
       "      <td>75</td>\n",
       "      <td>87</td>\n",
       "      <td>4.2</td>\n",
       "      <td>30</td>\n",
       "      <td>train</td>\n",
       "      <td>5</td>\n",
       "      <td>1</td>\n",
       "      <td>7</td>\n",
       "      <td>82</td>\n",
       "      <td>62</td>\n",
       "      <td>88</td>\n",
       "      <td>88</td>\n",
       "      <td>88</td>\n",
       "      <td>88</td>\n",
       "      <td>88</td>\n",
       "      <td>1500.0</td>\n",
       "    </tr>\n",
       "    <tr>\n",
       "      <th>2</th>\n",
       "      <td>75</td>\n",
       "      <td>108</td>\n",
       "      <td>3.8</td>\n",
       "      <td>221</td>\n",
       "      <td>train</td>\n",
       "      <td>5</td>\n",
       "      <td>20</td>\n",
       "      <td>92</td>\n",
       "      <td>29</td>\n",
       "      <td>17</td>\n",
       "      <td>55</td>\n",
       "      <td>88</td>\n",
       "      <td>88</td>\n",
       "      <td>88</td>\n",
       "      <td>88</td>\n",
       "      <td>800.0</td>\n",
       "    </tr>\n",
       "    <tr>\n",
       "      <th>3</th>\n",
       "      <td>277</td>\n",
       "      <td>11</td>\n",
       "      <td>4.1</td>\n",
       "      <td>24</td>\n",
       "      <td>train</td>\n",
       "      <td>23</td>\n",
       "      <td>20</td>\n",
       "      <td>126</td>\n",
       "      <td>29</td>\n",
       "      <td>88</td>\n",
       "      <td>88</td>\n",
       "      <td>88</td>\n",
       "      <td>88</td>\n",
       "      <td>88</td>\n",
       "      <td>88</td>\n",
       "      <td>800.0</td>\n",
       "    </tr>\n",
       "    <tr>\n",
       "      <th>4</th>\n",
       "      <td>277</td>\n",
       "      <td>61</td>\n",
       "      <td>3.8</td>\n",
       "      <td>165</td>\n",
       "      <td>train</td>\n",
       "      <td>9</td>\n",
       "      <td>20</td>\n",
       "      <td>34</td>\n",
       "      <td>88</td>\n",
       "      <td>88</td>\n",
       "      <td>88</td>\n",
       "      <td>88</td>\n",
       "      <td>88</td>\n",
       "      <td>88</td>\n",
       "      <td>88</td>\n",
       "      <td>300.0</td>\n",
       "    </tr>\n",
       "  </tbody>\n",
       "</table>\n",
       "</div>"
      ],
      "text/plain": [
       "   CITY  LOCALITY  RATING  VOTES source  TITLE_1  TITLE_2  CUISINES_1  \\\n",
       "0   401       108     3.6     49  train        5       20          74   \n",
       "1    75        87     4.2     30  train        5        1           7   \n",
       "2    75       108     3.8    221  train        5       20          92   \n",
       "3   277        11     4.1     24  train       23       20         126   \n",
       "4   277        61     3.8    165  train        9       20          34   \n",
       "\n",
       "   CUISINES_2  CUISINES_3  CUISINES_4  CUISINES_5  CUISINES_6  CUISINES_7  \\\n",
       "0          47          92          88          88          88          88   \n",
       "1          82          62          88          88          88          88   \n",
       "2          29          17          55          88          88          88   \n",
       "3          29          88          88          88          88          88   \n",
       "4          88          88          88          88          88          88   \n",
       "\n",
       "   CUISINES_8    COST  \n",
       "0          88  1200.0  \n",
       "1          88  1500.0  \n",
       "2          88   800.0  \n",
       "3          88   800.0  \n",
       "4          88   300.0  "
      ]
     },
     "execution_count": 442,
     "metadata": {},
     "output_type": "execute_result"
    }
   ],
   "source": [
    "raw_data.head(5)"
   ]
  },
  {
   "cell_type": "code",
   "execution_count": 443,
   "metadata": {},
   "outputs": [
    {
     "data": {
      "text/plain": [
       "array(['NAA'], dtype='<U17')"
      ]
     },
     "execution_count": 443,
     "metadata": {},
     "output_type": "execute_result"
    }
   ],
   "source": [
    "le_cuisines.inverse_transform([88])"
   ]
  },
  {
   "cell_type": "code",
   "execution_count": 444,
   "metadata": {
    "collapsed": true
   },
   "outputs": [],
   "source": [
    "from sklearn.preprocessing import StandardScaler\n",
    "sc = StandardScaler()\n",
    "raw_data['VOTES']= sc.fit_transform(raw_data['VOTES'].reshape(len(raw_data['VOTES']),1))\n",
    "raw_data['RATING']= sc.fit_transform(raw_data['RATING'].reshape(len(raw_data['RATING']),1))"
   ]
  },
  {
   "cell_type": "code",
   "execution_count": 445,
   "metadata": {},
   "outputs": [
    {
     "data": {
      "text/html": [
       "<div>\n",
       "<style>\n",
       "    .dataframe thead tr:only-child th {\n",
       "        text-align: right;\n",
       "    }\n",
       "\n",
       "    .dataframe thead th {\n",
       "        text-align: left;\n",
       "    }\n",
       "\n",
       "    .dataframe tbody tr th {\n",
       "        vertical-align: top;\n",
       "    }\n",
       "</style>\n",
       "<table border=\"1\" class=\"dataframe\">\n",
       "  <thead>\n",
       "    <tr style=\"text-align: right;\">\n",
       "      <th></th>\n",
       "      <th>CITY</th>\n",
       "      <th>LOCALITY</th>\n",
       "      <th>RATING</th>\n",
       "      <th>VOTES</th>\n",
       "      <th>source</th>\n",
       "      <th>TITLE_1</th>\n",
       "      <th>TITLE_2</th>\n",
       "      <th>CUISINES_1</th>\n",
       "      <th>CUISINES_2</th>\n",
       "      <th>CUISINES_3</th>\n",
       "      <th>CUISINES_4</th>\n",
       "      <th>CUISINES_5</th>\n",
       "      <th>CUISINES_6</th>\n",
       "      <th>CUISINES_7</th>\n",
       "      <th>CUISINES_8</th>\n",
       "      <th>COST</th>\n",
       "    </tr>\n",
       "  </thead>\n",
       "  <tbody>\n",
       "    <tr>\n",
       "      <th>0</th>\n",
       "      <td>401</td>\n",
       "      <td>108</td>\n",
       "      <td>0.147994</td>\n",
       "      <td>-0.408704</td>\n",
       "      <td>train</td>\n",
       "      <td>5</td>\n",
       "      <td>20</td>\n",
       "      <td>74</td>\n",
       "      <td>47</td>\n",
       "      <td>92</td>\n",
       "      <td>88</td>\n",
       "      <td>88</td>\n",
       "      <td>88</td>\n",
       "      <td>88</td>\n",
       "      <td>88</td>\n",
       "      <td>1200.0</td>\n",
       "    </tr>\n",
       "    <tr>\n",
       "      <th>1</th>\n",
       "      <td>75</td>\n",
       "      <td>87</td>\n",
       "      <td>0.656222</td>\n",
       "      <td>-0.432207</td>\n",
       "      <td>train</td>\n",
       "      <td>5</td>\n",
       "      <td>1</td>\n",
       "      <td>7</td>\n",
       "      <td>82</td>\n",
       "      <td>62</td>\n",
       "      <td>88</td>\n",
       "      <td>88</td>\n",
       "      <td>88</td>\n",
       "      <td>88</td>\n",
       "      <td>88</td>\n",
       "      <td>1500.0</td>\n",
       "    </tr>\n",
       "    <tr>\n",
       "      <th>2</th>\n",
       "      <td>75</td>\n",
       "      <td>108</td>\n",
       "      <td>0.317404</td>\n",
       "      <td>-0.195946</td>\n",
       "      <td>train</td>\n",
       "      <td>5</td>\n",
       "      <td>20</td>\n",
       "      <td>92</td>\n",
       "      <td>29</td>\n",
       "      <td>17</td>\n",
       "      <td>55</td>\n",
       "      <td>88</td>\n",
       "      <td>88</td>\n",
       "      <td>88</td>\n",
       "      <td>88</td>\n",
       "      <td>800.0</td>\n",
       "    </tr>\n",
       "    <tr>\n",
       "      <th>3</th>\n",
       "      <td>277</td>\n",
       "      <td>11</td>\n",
       "      <td>0.571518</td>\n",
       "      <td>-0.439628</td>\n",
       "      <td>train</td>\n",
       "      <td>23</td>\n",
       "      <td>20</td>\n",
       "      <td>126</td>\n",
       "      <td>29</td>\n",
       "      <td>88</td>\n",
       "      <td>88</td>\n",
       "      <td>88</td>\n",
       "      <td>88</td>\n",
       "      <td>88</td>\n",
       "      <td>88</td>\n",
       "      <td>800.0</td>\n",
       "    </tr>\n",
       "    <tr>\n",
       "      <th>4</th>\n",
       "      <td>277</td>\n",
       "      <td>61</td>\n",
       "      <td>0.317404</td>\n",
       "      <td>-0.265216</td>\n",
       "      <td>train</td>\n",
       "      <td>9</td>\n",
       "      <td>20</td>\n",
       "      <td>34</td>\n",
       "      <td>88</td>\n",
       "      <td>88</td>\n",
       "      <td>88</td>\n",
       "      <td>88</td>\n",
       "      <td>88</td>\n",
       "      <td>88</td>\n",
       "      <td>88</td>\n",
       "      <td>300.0</td>\n",
       "    </tr>\n",
       "  </tbody>\n",
       "</table>\n",
       "</div>"
      ],
      "text/plain": [
       "   CITY  LOCALITY    RATING     VOTES source  TITLE_1  TITLE_2  CUISINES_1  \\\n",
       "0   401       108  0.147994 -0.408704  train        5       20          74   \n",
       "1    75        87  0.656222 -0.432207  train        5        1           7   \n",
       "2    75       108  0.317404 -0.195946  train        5       20          92   \n",
       "3   277        11  0.571518 -0.439628  train       23       20         126   \n",
       "4   277        61  0.317404 -0.265216  train        9       20          34   \n",
       "\n",
       "   CUISINES_2  CUISINES_3  CUISINES_4  CUISINES_5  CUISINES_6  CUISINES_7  \\\n",
       "0          47          92          88          88          88          88   \n",
       "1          82          62          88          88          88          88   \n",
       "2          29          17          55          88          88          88   \n",
       "3          29          88          88          88          88          88   \n",
       "4          88          88          88          88          88          88   \n",
       "\n",
       "   CUISINES_8    COST  \n",
       "0          88  1200.0  \n",
       "1          88  1500.0  \n",
       "2          88   800.0  \n",
       "3          88   800.0  \n",
       "4          88   300.0  "
      ]
     },
     "execution_count": 445,
     "metadata": {},
     "output_type": "execute_result"
    }
   ],
   "source": [
    "raw_data.head(5)"
   ]
  },
  {
   "cell_type": "code",
   "execution_count": null,
   "metadata": {
    "collapsed": true
   },
   "outputs": [],
   "source": []
  },
  {
   "cell_type": "code",
   "execution_count": 446,
   "metadata": {
    "collapsed": true
   },
   "outputs": [],
   "source": [
    "raw_data.drop([\"CUISINES_6\",\"CUISINES_7\",\"CUISINES_8\"], axis=1,inplace=True)"
   ]
  },
  {
   "cell_type": "code",
   "execution_count": 447,
   "metadata": {},
   "outputs": [
    {
     "data": {
      "text/html": [
       "<div>\n",
       "<style>\n",
       "    .dataframe thead tr:only-child th {\n",
       "        text-align: right;\n",
       "    }\n",
       "\n",
       "    .dataframe thead th {\n",
       "        text-align: left;\n",
       "    }\n",
       "\n",
       "    .dataframe tbody tr th {\n",
       "        vertical-align: top;\n",
       "    }\n",
       "</style>\n",
       "<table border=\"1\" class=\"dataframe\">\n",
       "  <thead>\n",
       "    <tr style=\"text-align: right;\">\n",
       "      <th></th>\n",
       "      <th>CITY</th>\n",
       "      <th>LOCALITY</th>\n",
       "      <th>RATING</th>\n",
       "      <th>VOTES</th>\n",
       "      <th>source</th>\n",
       "      <th>TITLE_1</th>\n",
       "      <th>TITLE_2</th>\n",
       "      <th>CUISINES_1</th>\n",
       "      <th>CUISINES_2</th>\n",
       "      <th>CUISINES_3</th>\n",
       "      <th>CUISINES_4</th>\n",
       "      <th>CUISINES_5</th>\n",
       "      <th>COST</th>\n",
       "    </tr>\n",
       "  </thead>\n",
       "  <tbody>\n",
       "    <tr>\n",
       "      <th>0</th>\n",
       "      <td>401</td>\n",
       "      <td>108</td>\n",
       "      <td>0.147994</td>\n",
       "      <td>-0.408704</td>\n",
       "      <td>train</td>\n",
       "      <td>5</td>\n",
       "      <td>20</td>\n",
       "      <td>74</td>\n",
       "      <td>47</td>\n",
       "      <td>92</td>\n",
       "      <td>88</td>\n",
       "      <td>88</td>\n",
       "      <td>1200.0</td>\n",
       "    </tr>\n",
       "    <tr>\n",
       "      <th>1</th>\n",
       "      <td>75</td>\n",
       "      <td>87</td>\n",
       "      <td>0.656222</td>\n",
       "      <td>-0.432207</td>\n",
       "      <td>train</td>\n",
       "      <td>5</td>\n",
       "      <td>1</td>\n",
       "      <td>7</td>\n",
       "      <td>82</td>\n",
       "      <td>62</td>\n",
       "      <td>88</td>\n",
       "      <td>88</td>\n",
       "      <td>1500.0</td>\n",
       "    </tr>\n",
       "    <tr>\n",
       "      <th>2</th>\n",
       "      <td>75</td>\n",
       "      <td>108</td>\n",
       "      <td>0.317404</td>\n",
       "      <td>-0.195946</td>\n",
       "      <td>train</td>\n",
       "      <td>5</td>\n",
       "      <td>20</td>\n",
       "      <td>92</td>\n",
       "      <td>29</td>\n",
       "      <td>17</td>\n",
       "      <td>55</td>\n",
       "      <td>88</td>\n",
       "      <td>800.0</td>\n",
       "    </tr>\n",
       "    <tr>\n",
       "      <th>3</th>\n",
       "      <td>277</td>\n",
       "      <td>11</td>\n",
       "      <td>0.571518</td>\n",
       "      <td>-0.439628</td>\n",
       "      <td>train</td>\n",
       "      <td>23</td>\n",
       "      <td>20</td>\n",
       "      <td>126</td>\n",
       "      <td>29</td>\n",
       "      <td>88</td>\n",
       "      <td>88</td>\n",
       "      <td>88</td>\n",
       "      <td>800.0</td>\n",
       "    </tr>\n",
       "    <tr>\n",
       "      <th>4</th>\n",
       "      <td>277</td>\n",
       "      <td>61</td>\n",
       "      <td>0.317404</td>\n",
       "      <td>-0.265216</td>\n",
       "      <td>train</td>\n",
       "      <td>9</td>\n",
       "      <td>20</td>\n",
       "      <td>34</td>\n",
       "      <td>88</td>\n",
       "      <td>88</td>\n",
       "      <td>88</td>\n",
       "      <td>88</td>\n",
       "      <td>300.0</td>\n",
       "    </tr>\n",
       "  </tbody>\n",
       "</table>\n",
       "</div>"
      ],
      "text/plain": [
       "   CITY  LOCALITY    RATING     VOTES source  TITLE_1  TITLE_2  CUISINES_1  \\\n",
       "0   401       108  0.147994 -0.408704  train        5       20          74   \n",
       "1    75        87  0.656222 -0.432207  train        5        1           7   \n",
       "2    75       108  0.317404 -0.195946  train        5       20          92   \n",
       "3   277        11  0.571518 -0.439628  train       23       20         126   \n",
       "4   277        61  0.317404 -0.265216  train        9       20          34   \n",
       "\n",
       "   CUISINES_2  CUISINES_3  CUISINES_4  CUISINES_5    COST  \n",
       "0          47          92          88          88  1200.0  \n",
       "1          82          62          88          88  1500.0  \n",
       "2          29          17          55          88   800.0  \n",
       "3          29          88          88          88   800.0  \n",
       "4          88          88          88          88   300.0  "
      ]
     },
     "execution_count": 447,
     "metadata": {},
     "output_type": "execute_result"
    }
   ],
   "source": [
    "raw_data.head(5)"
   ]
  },
  {
   "cell_type": "code",
   "execution_count": 448,
   "metadata": {
    "collapsed": true
   },
   "outputs": [],
   "source": [
    "#Divide into test and train:\n",
    "train = raw_data.loc[raw_data['source']==\"train\"]\n",
    "test = raw_data.loc[raw_data['source']==\"test\"]\n",
    "train.drop([\"source\"], inplace=True, axis=1)\n",
    "test.drop([\"source\",\"COST\"], inplace=True, axis=1)"
   ]
  },
  {
   "cell_type": "code",
   "execution_count": 449,
   "metadata": {
    "collapsed": true
   },
   "outputs": [],
   "source": [
    "train['COST'] = np.log(train['COST'])"
   ]
  },
  {
   "cell_type": "code",
   "execution_count": 450,
   "metadata": {
    "collapsed": true
   },
   "outputs": [],
   "source": [
    "from sklearn import model_selection\n",
    "from sklearn.metrics import mean_squared_error\n",
    "import xgboost\n",
    "import numpy as np\n",
    "from sklearn.ensemble import RandomForestRegressor\n",
    "train_x, valid_x, train_y, valid_y = model_selection.train_test_split(train.drop([\"COST\"], axis=1), train['COST'])"
   ]
  },
  {
   "cell_type": "code",
   "execution_count": 352,
   "metadata": {
    "collapsed": true
   },
   "outputs": [],
   "source": [
    "from sklearn.grid_search import GridSearchCV"
   ]
  },
  {
   "cell_type": "code",
   "execution_count": 353,
   "metadata": {
    "collapsed": true
   },
   "outputs": [],
   "source": [
    "RF_G= param_grid={\n",
    "            'max_depth': [4,8,10,12,14,16],\n",
    "            'n_estimators': [10,20,30,40,50],\n",
    "            'min_samples_split': [2, 5, 10]\n",
    "        },"
   ]
  },
  {
   "cell_type": "code",
   "execution_count": 354,
   "metadata": {
    "collapsed": true
   },
   "outputs": [],
   "source": [
    "gsearchRF1 = GridSearchCV(estimator = RandomForestRegressor(),param_grid=RF_G,scoring='neg_mean_squared_log_error')\n"
   ]
  },
  {
   "cell_type": "code",
   "execution_count": 355,
   "metadata": {},
   "outputs": [
    {
     "data": {
      "text/plain": [
       "GridSearchCV(cv=None, error_score='raise',\n",
       "       estimator=RandomForestRegressor(bootstrap=True, criterion='mse', max_depth=None,\n",
       "           max_features='auto', max_leaf_nodes=None,\n",
       "           min_impurity_decrease=0.0, min_impurity_split=None,\n",
       "           min_samples_leaf=1, min_samples_split=2,\n",
       "           min_weight_fraction_leaf=0.0, n_estimators=10, n_jobs=1,\n",
       "           oob_score=False, random_state=None, verbose=0, warm_start=False),\n",
       "       fit_params={}, iid=True, n_jobs=1,\n",
       "       param_grid=({'max_depth': [4, 8, 10, 12, 14, 16], 'n_estimators': [10, 20, 30, 40, 50], 'min_samples_split': [2, 5, 10]},),\n",
       "       pre_dispatch='2*n_jobs', refit=True,\n",
       "       scoring='neg_mean_squared_log_error', verbose=0)"
      ]
     },
     "execution_count": 355,
     "metadata": {},
     "output_type": "execute_result"
    }
   ],
   "source": [
    "gsearchRF1.fit(train_x,train_y)"
   ]
  },
  {
   "cell_type": "code",
   "execution_count": 356,
   "metadata": {},
   "outputs": [
    {
     "data": {
      "text/plain": [
       "{'max_depth': 14, 'min_samples_split': 10, 'n_estimators': 50}"
      ]
     },
     "execution_count": 356,
     "metadata": {},
     "output_type": "execute_result"
    }
   ],
   "source": [
    "gsearchRF1.best_params_"
   ]
  },
  {
   "cell_type": "code",
   "execution_count": null,
   "metadata": {
    "collapsed": true
   },
   "outputs": [],
   "source": [
    "RF_G_2 = param_grid={\n",
    "            'max_depth': [12],\n",
    "            'n_estimators': [40,50,60],\n",
    "            'min_samples_split': [10,12,15,19,24]\n",
    "        },"
   ]
  },
  {
   "cell_type": "code",
   "execution_count": null,
   "metadata": {
    "collapsed": true
   },
   "outputs": [],
   "source": [
    "gsearchRF2 = GridSearchCV(estimator = RandomForestRegressor(),param_grid=RF_G_2,scoring='neg_mean_squared_log_error')\n"
   ]
  },
  {
   "cell_type": "code",
   "execution_count": null,
   "metadata": {
    "collapsed": true
   },
   "outputs": [],
   "source": [
    "gsearchRF2.fit(train_x,train_y)"
   ]
  },
  {
   "cell_type": "code",
   "execution_count": null,
   "metadata": {
    "collapsed": true
   },
   "outputs": [],
   "source": [
    "gsearchRF2.best_params_"
   ]
  },
  {
   "cell_type": "code",
   "execution_count": 451,
   "metadata": {
    "collapsed": true
   },
   "outputs": [],
   "source": [
    "RF1 = RandomForestRegressor(max_depth=14, min_samples_split=10, n_estimators=50, n_jobs=-1)"
   ]
  },
  {
   "cell_type": "code",
   "execution_count": 452,
   "metadata": {},
   "outputs": [
    {
     "data": {
      "text/plain": [
       "RandomForestRegressor(bootstrap=True, criterion='mse', max_depth=14,\n",
       "           max_features='auto', max_leaf_nodes=None,\n",
       "           min_impurity_decrease=0.0, min_impurity_split=None,\n",
       "           min_samples_leaf=1, min_samples_split=10,\n",
       "           min_weight_fraction_leaf=0.0, n_estimators=50, n_jobs=-1,\n",
       "           oob_score=False, random_state=None, verbose=0, warm_start=False)"
      ]
     },
     "execution_count": 452,
     "metadata": {},
     "output_type": "execute_result"
    }
   ],
   "source": [
    "RF1.fit(train_x,train_y)"
   ]
  },
  {
   "cell_type": "code",
   "execution_count": 453,
   "metadata": {},
   "outputs": [
    {
     "data": {
      "text/plain": [
       "0.7231748183605428"
      ]
     },
     "execution_count": 453,
     "metadata": {},
     "output_type": "execute_result"
    }
   ],
   "source": [
    "RF1.score(valid_x,valid_y)"
   ]
  },
  {
   "cell_type": "code",
   "execution_count": null,
   "metadata": {
    "collapsed": true
   },
   "outputs": [],
   "source": [
    "sub1 = np.exp(RF1.predict(test))"
   ]
  },
  {
   "cell_type": "code",
   "execution_count": null,
   "metadata": {
    "collapsed": true
   },
   "outputs": [],
   "source": [
    "pd.DataFrame(sub1).to_excel(\"./subimission_01.xlsx\")"
   ]
  },
  {
   "cell_type": "code",
   "execution_count": 74,
   "metadata": {
    "collapsed": true
   },
   "outputs": [],
   "source": [
    "import xgboost"
   ]
  },
  {
   "cell_type": "code",
   "execution_count": null,
   "metadata": {
    "collapsed": true
   },
   "outputs": [],
   "source": [
    "param_test1 = {'n_estimators':list(range(20,121,10))}\n",
    "gsearch1 = GridSearchCV(estimator = xgboost.XGBRegressor(learning_rate=0.1, min_samples_split=100,min_samples_leaf=50,max_depth=8,max_features='sqrt',subsample=0.8,random_state=10), \n",
    "param_grid = param_test1, scoring='neg_mean_squared_log_error',n_jobs=4,iid=False, cv=5)\n",
    "%time gsearch1.fit(train_x,train_y)"
   ]
  },
  {
   "cell_type": "code",
   "execution_count": null,
   "metadata": {
    "collapsed": true
   },
   "outputs": [],
   "source": [
    "gsearch1.best_params_"
   ]
  },
  {
   "cell_type": "code",
   "execution_count": null,
   "metadata": {
    "collapsed": true
   },
   "outputs": [],
   "source": [
    "param_test2 = {'max_depth':list(range(5,16,2))}\n",
    "gsearch2 = GridSearchCV(estimator = xgboost.XGBRegressor(learning_rate=0.1, n_estimators=120, max_features='sqrt', subsample=0.8, random_state=10), \n",
    "param_grid = param_test2, scoring='neg_mean_squared_log_error',n_jobs=4,iid=False, cv=5)\n",
    "gsearch2.fit(train_x,train_y)\n",
    "#print(gsearch2.grid_scores_, gsearch2.best_params_, gsearch2.best_score_)"
   ]
  },
  {
   "cell_type": "code",
   "execution_count": null,
   "metadata": {
    "collapsed": true
   },
   "outputs": [],
   "source": [
    "gsearch2.best_params_"
   ]
  },
  {
   "cell_type": "code",
   "execution_count": null,
   "metadata": {
    "collapsed": true
   },
   "outputs": [],
   "source": [
    "param_test3 = {'min_child_weight':[1,2,3,4]}\n",
    "gsearch3 = GridSearchCV(estimator = xgboost.XGBRegressor(learning_rate=0.1, n_estimators=120, max_features='sqrt', subsample=0.8, random_state=10,max_depth=7), \n",
    "param_grid = param_test3, scoring='neg_mean_squared_log_error',n_jobs=4,iid=False, cv=5)\n",
    "gsearch3.fit(train_x,train_y)\n",
    "#print(gsearch2.grid_scores_, gsearch2.best_params_, gsearch2.best_score_)"
   ]
  },
  {
   "cell_type": "code",
   "execution_count": null,
   "metadata": {
    "collapsed": true
   },
   "outputs": [],
   "source": [
    "gsearch3.best_params_"
   ]
  },
  {
   "cell_type": "code",
   "execution_count": null,
   "metadata": {
    "collapsed": true
   },
   "outputs": [],
   "source": [
    "param_test4 = {'gamma':[i/10.0 for i in range(1,10)]}\n",
    "gsearch4 = GridSearchCV(estimator = xgboost.XGBRegressor(learning_rate=0.1, n_estimators=120, max_features='sqrt', subsample=0.8, random_state=10,max_depth=7, min_child_weight=3), \n",
    "param_grid = param_test4, scoring='neg_mean_squared_log_error',n_jobs=4,iid=False, cv=5)\n",
    "gsearch4.fit(train_x,train_y)"
   ]
  },
  {
   "cell_type": "code",
   "execution_count": null,
   "metadata": {
    "collapsed": true
   },
   "outputs": [],
   "source": [
    "gsearch4.best_params_"
   ]
  },
  {
   "cell_type": "code",
   "execution_count": 454,
   "metadata": {
    "collapsed": true
   },
   "outputs": [],
   "source": [
    "xg_algo = xgboost.XGBRegressor(n_estimators=120, max_depth=7, min_child_weight=3,\n",
    "                              gamma=0.6)"
   ]
  },
  {
   "cell_type": "code",
   "execution_count": 455,
   "metadata": {},
   "outputs": [
    {
     "data": {
      "text/plain": [
       "XGBRegressor(base_score=0.5, booster='gbtree', colsample_bylevel=1,\n",
       "       colsample_bytree=1, gamma=0.6, learning_rate=0.1, max_delta_step=0,\n",
       "       max_depth=7, min_child_weight=3, missing=None, n_estimators=120,\n",
       "       n_jobs=1, nthread=None, objective='reg:linear', random_state=0,\n",
       "       reg_alpha=0, reg_lambda=1, scale_pos_weight=1, seed=None,\n",
       "       silent=True, subsample=1)"
      ]
     },
     "execution_count": 455,
     "metadata": {},
     "output_type": "execute_result"
    }
   ],
   "source": [
    "xg_algo.fit(train_x,train_y)"
   ]
  },
  {
   "cell_type": "code",
   "execution_count": 456,
   "metadata": {},
   "outputs": [
    {
     "data": {
      "text/plain": [
       "0.7383549898108236"
      ]
     },
     "execution_count": 456,
     "metadata": {},
     "output_type": "execute_result"
    }
   ],
   "source": [
    "xg_algo.score(valid_x,valid_y)"
   ]
  },
  {
   "cell_type": "code",
   "execution_count": 121,
   "metadata": {
    "collapsed": true
   },
   "outputs": [],
   "source": [
    "sub9 = np.exp(xg_algo.predict(test))\n",
    "pd.DataFrame(sub9).to_excel(\"./subimission_09.xlsx\")"
   ]
  },
  {
   "cell_type": "code",
   "execution_count": 363,
   "metadata": {},
   "outputs": [
    {
     "data": {
      "image/png": "[encoded data removed]",
      "text/plain": [
       "<matplotlib.figure.Figure at 0x1a187a6c18>"
      ]
     },
     "metadata": {},
     "output_type": "display_data"
    },
    {
     "data": {
      "text/plain": [
       "<matplotlib.figure.Figure at 0x1a187aaef0>"
      ]
     },
     "metadata": {},
     "output_type": "display_data"
    }
   ],
   "source": [
    "xgboost.plot_importance(xg_algo)\n",
    "plt.figure(figsize=(40,20))\n",
    "#plt.xlabel(fontsize=50)\n",
    "#plt.ylabel(fontsize=50)\n",
    "plt.show()"
   ]
  },
  {
   "cell_type": "code",
   "execution_count": null,
   "metadata": {
    "collapsed": true
   },
   "outputs": [],
   "source": [
    "sub2 = np.exp(xg_algo.predict(test))\n",
    "pd.DataFrame(sub2).to_excel(\"./subimission_02.xlsx\")"
   ]
  },
  {
   "cell_type": "code",
   "execution_count": null,
   "metadata": {
    "collapsed": true
   },
   "outputs": [],
   "source": [
    "sub1"
   ]
  },
  {
   "cell_type": "code",
   "execution_count": null,
   "metadata": {
    "collapsed": true
   },
   "outputs": [],
   "source": [
    "sub2"
   ]
  },
  {
   "cell_type": "code",
   "execution_count": 466,
   "metadata": {
    "collapsed": true
   },
   "outputs": [],
   "source": [
    "param_test5 = {'n_estimators':list(range(120,180,10)),\n",
    "              'max_depth':list(range(5,16,2)),\n",
    "              'min_child_weight':[1,2,3,4],\n",
    "              'gamma':[i/10.0 for i in range(1,10)]}"
   ]
  },
  {
   "cell_type": "code",
   "execution_count": 467,
   "metadata": {},
   "outputs": [
    {
     "data": {
      "text/plain": [
       "GridSearchCV(cv=5, error_score='raise',\n",
       "       estimator=XGBRegressor(base_score=0.5, booster='gbtree', colsample_bylevel=1,\n",
       "       colsample_bytree=1, gamma=0, learning_rate=0.1, max_delta_step=0,\n",
       "       max_depth=3, max_features='sqrt', min_child_weight=1, missing=None,\n",
       "       n_estimators=100, n_jobs=1, nthread=None, objective='reg:linear',\n",
       "       random_state=10, reg_alpha=0, reg_lambda=1, scale_pos_weight=1,\n",
       "       seed=None, silent=True, subsample=0.8),\n",
       "       fit_params={}, iid=False, n_jobs=-1,\n",
       "       param_grid={'n_estimators': [120, 130, 140, 150, 160, 170], 'max_depth': [5, 7, 9, 11, 13, 15], 'min_child_weight': [1, 2, 3, 4], 'gamma': [0.1, 0.2, 0.3, 0.4, 0.5, 0.6, 0.7, 0.8, 0.9]},\n",
       "       pre_dispatch='2*n_jobs', refit=True,\n",
       "       scoring='neg_mean_squared_log_error', verbose=0)"
      ]
     },
     "execution_count": 467,
     "metadata": {},
     "output_type": "execute_result"
    }
   ],
   "source": [
    "gsearch5 = GridSearchCV(estimator = xgboost.XGBRegressor(learning_rate=0.1, max_features='sqrt', subsample=0.8, random_state=10), \n",
    "param_grid = param_test5, scoring='neg_mean_squared_log_error',n_jobs=-1,iid=False, cv=5)\n",
    "gsearch5.fit(train_x,train_y)"
   ]
  },
  {
   "cell_type": "code",
   "execution_count": null,
   "metadata": {
    "collapsed": true
   },
   "outputs": [],
   "source": [
    "gsearch5.best_params_"
   ]
  },
  {
   "cell_type": "code",
   "execution_count": 457,
   "metadata": {
    "collapsed": true
   },
   "outputs": [],
   "source": [
    "xg_boost2 = xgboost.XGBRegressor(max_depth=11, gamma=0.6,min_child_weight=2, n_estimators=120)"
   ]
  },
  {
   "cell_type": "code",
   "execution_count": 458,
   "metadata": {},
   "outputs": [
    {
     "data": {
      "text/plain": [
       "XGBRegressor(base_score=0.5, booster='gbtree', colsample_bylevel=1,\n",
       "       colsample_bytree=1, gamma=0.6, learning_rate=0.1, max_delta_step=0,\n",
       "       max_depth=11, min_child_weight=2, missing=None, n_estimators=120,\n",
       "       n_jobs=1, nthread=None, objective='reg:linear', random_state=0,\n",
       "       reg_alpha=0, reg_lambda=1, scale_pos_weight=1, seed=None,\n",
       "       silent=True, subsample=1)"
      ]
     },
     "execution_count": 458,
     "metadata": {},
     "output_type": "execute_result"
    }
   ],
   "source": [
    "xg_boost2.fit(train_x, train_y)"
   ]
  },
  {
   "cell_type": "code",
   "execution_count": 459,
   "metadata": {},
   "outputs": [
    {
     "data": {
      "text/plain": [
       "0.7451003492323574"
      ]
     },
     "execution_count": 459,
     "metadata": {},
     "output_type": "execute_result"
    }
   ],
   "source": [
    "xg_boost2.score(valid_x, valid_y)"
   ]
  },
  {
   "cell_type": "code",
   "execution_count": 460,
   "metadata": {
    "collapsed": true
   },
   "outputs": [],
   "source": [
    "sub9 = np.exp(xg_boost2.predict(test))\n",
    "pd.DataFrame(sub9).to_excel(\"./subimission_09.xlsx\")"
   ]
  },
  {
   "cell_type": "code",
   "execution_count": 367,
   "metadata": {},
   "outputs": [
    {
     "data": {
      "image/png": "[encoded data removed]",
      "text/plain": [
       "<matplotlib.figure.Figure at 0x1a1b307940>"
      ]
     },
     "metadata": {},
     "output_type": "display_data"
    }
   ],
   "source": [
    "xgboost.plot_importance(xg_boost2)\n",
    "plt.show()"
   ]
  },
  {
   "cell_type": "code",
   "execution_count": null,
   "metadata": {
    "collapsed": true
   },
   "outputs": [],
   "source": [
    "sub3 = (sub2 + sub4) /  2\n",
    "pd.DataFrame(sub2).to_excel(\"./subimission_03.xlsx\")"
   ]
  },
  {
   "cell_type": "code",
   "execution_count": null,
   "metadata": {
    "collapsed": true
   },
   "outputs": [],
   "source": [
    "sub5 = np.exp(xg_boost2.predict(test))\n",
    "#pd.DataFrame(sub5).to_excel(\"./subimission_05.xlsx\")"
   ]
  },
  {
   "cell_type": "code",
   "execution_count": null,
   "metadata": {
    "collapsed": true
   },
   "outputs": [],
   "source": [
    "sub5"
   ]
  },
  {
   "cell_type": "code",
   "execution_count": 461,
   "metadata": {},
   "outputs": [
    {
     "name": "stderr",
     "output_type": "stream",
     "text": [
      "Using TensorFlow backend.\n"
     ]
    }
   ],
   "source": [
    "from keras import layers\n",
    "from keras import models\n",
    "from keras.layers import Dropout\n",
    "def build_model():\n",
    "    model = models.Sequential()\n",
    "    model.add(layers.Dense(64, activation = 'relu', input_shape = (train_x.shape[1],)))\n",
    "    model.add(Dropout(.2))\n",
    "    model.add(layers.Dense(64, activation = 'relu'))\n",
    "    model.add(Dropout(.2))\n",
    "    model.add(layers.Dense(64, activation = 'relu'))\n",
    "    model.add(Dropout(.2))\n",
    "    model.add(layers.Dense(64, activation = 'relu'))\n",
    "    model.add(layers.Dense(1))\n",
    "    model.add(layers.Dense(64, activation = 'relu'))\n",
    "    model.add(layers.Dense(1))\n",
    "    model.compile(optimizer = 'rmsprop', loss = 'mse', metrics = ['mse'])\n",
    "    return model"
   ]
  },
  {
   "cell_type": "code",
   "execution_count": 464,
   "metadata": {
    "collapsed": true
   },
   "outputs": [],
   "source": [
    "NN_model = build_model()"
   ]
  },
  {
   "cell_type": "code",
   "execution_count": 465,
   "metadata": {},
   "outputs": [
    {
     "name": "stdout",
     "output_type": "stream",
     "text": [
      "Train on 9517 samples, validate on 3173 samples\n",
      "Epoch 1/30\n",
      "9517/9517 [==============================] - 1s 74us/step - loss: 3.0271 - mean_squared_error: 3.0271 - val_loss: 5.9465 - val_mean_squared_error: 5.9465\n",
      "Epoch 2/30\n",
      "9517/9517 [==============================] - 0s 43us/step - loss: 1.4669 - mean_squared_error: 1.4669 - val_loss: 2.8785 - val_mean_squared_error: 2.8785\n",
      "Epoch 3/30\n",
      "9517/9517 [==============================] - 0s 43us/step - loss: 1.0886 - mean_squared_error: 1.0886 - val_loss: 2.4785 - val_mean_squared_error: 2.4785\n",
      "Epoch 4/30\n",
      "9517/9517 [==============================] - 0s 43us/step - loss: 0.8613 - mean_squared_error: 0.8613 - val_loss: 3.5308 - val_mean_squared_error: 3.5308\n",
      "Epoch 5/30\n",
      "9517/9517 [==============================] - 0s 42us/step - loss: 0.7357 - mean_squared_error: 0.7357 - val_loss: 3.0391 - val_mean_squared_error: 3.0391\n",
      "Epoch 6/30\n",
      "9517/9517 [==============================] - 0s 41us/step - loss: 0.6212 - mean_squared_error: 0.6212 - val_loss: 2.0522 - val_mean_squared_error: 2.0522\n",
      "Epoch 7/30\n",
      "9517/9517 [==============================] - 0s 43us/step - loss: 0.5441 - mean_squared_error: 0.5441 - val_loss: 1.3763 - val_mean_squared_error: 1.3763\n",
      "Epoch 8/30\n",
      "9517/9517 [==============================] - 0s 44us/step - loss: 0.4919 - mean_squared_error: 0.4919 - val_loss: 1.0205 - val_mean_squared_error: 1.0205\n",
      "Epoch 9/30\n",
      "9517/9517 [==============================] - 0s 44us/step - loss: 0.4538 - mean_squared_error: 0.4538 - val_loss: 0.9970 - val_mean_squared_error: 0.9970\n",
      "Epoch 10/30\n",
      "9517/9517 [==============================] - 0s 44us/step - loss: 0.4306 - mean_squared_error: 0.4306 - val_loss: 0.3838 - val_mean_squared_error: 0.3838\n",
      "Epoch 11/30\n",
      "9517/9517 [==============================] - 0s 46us/step - loss: 0.4106 - mean_squared_error: 0.4106 - val_loss: 0.4189 - val_mean_squared_error: 0.4189\n",
      "Epoch 12/30\n",
      "9517/9517 [==============================] - 0s 46us/step - loss: 0.3997 - mean_squared_error: 0.3997 - val_loss: 0.5121 - val_mean_squared_error: 0.5121\n",
      "Epoch 13/30\n",
      "9517/9517 [==============================] - 0s 41us/step - loss: 0.3935 - mean_squared_error: 0.3935 - val_loss: 0.6365 - val_mean_squared_error: 0.6365\n",
      "Epoch 14/30\n",
      "9517/9517 [==============================] - 0s 43us/step - loss: 0.3833 - mean_squared_error: 0.3833 - val_loss: 0.5397 - val_mean_squared_error: 0.5397\n",
      "Epoch 15/30\n",
      "9517/9517 [==============================] - 0s 44us/step - loss: 0.3757 - mean_squared_error: 0.3757 - val_loss: 0.4698 - val_mean_squared_error: 0.4698\n",
      "Epoch 16/30\n",
      "9517/9517 [==============================] - 0s 46us/step - loss: 0.3679 - mean_squared_error: 0.3679 - val_loss: 0.4600 - val_mean_squared_error: 0.4600\n",
      "Epoch 17/30\n",
      "9517/9517 [==============================] - 0s 50us/step - loss: 0.3614 - mean_squared_error: 0.3614 - val_loss: 0.4114 - val_mean_squared_error: 0.4114\n",
      "Epoch 18/30\n",
      "9517/9517 [==============================] - 0s 46us/step - loss: 0.3596 - mean_squared_error: 0.3596 - val_loss: 0.4141 - val_mean_squared_error: 0.4141\n",
      "Epoch 19/30\n",
      "9517/9517 [==============================] - 0s 48us/step - loss: 0.3488 - mean_squared_error: 0.3488 - val_loss: 0.5150 - val_mean_squared_error: 0.5150\n",
      "Epoch 20/30\n",
      "9517/9517 [==============================] - 0s 45us/step - loss: 0.3489 - mean_squared_error: 0.3489 - val_loss: 0.4314 - val_mean_squared_error: 0.4314\n",
      "Epoch 21/30\n",
      "9517/9517 [==============================] - 0s 46us/step - loss: 0.3451 - mean_squared_error: 0.3451 - val_loss: 0.4503 - val_mean_squared_error: 0.4503\n",
      "Epoch 22/30\n",
      "9517/9517 [==============================] - 0s 48us/step - loss: 0.3427 - mean_squared_error: 0.3427 - val_loss: 0.3494 - val_mean_squared_error: 0.3494\n",
      "Epoch 23/30\n",
      "9517/9517 [==============================] - 0s 47us/step - loss: 0.3407 - mean_squared_error: 0.3407 - val_loss: 0.3885 - val_mean_squared_error: 0.3885\n",
      "Epoch 24/30\n",
      "9517/9517 [==============================] - 0s 47us/step - loss: 0.3389 - mean_squared_error: 0.3389 - val_loss: 0.4009 - val_mean_squared_error: 0.4009\n",
      "Epoch 25/30\n",
      "9517/9517 [==============================] - 0s 47us/step - loss: 0.3362 - mean_squared_error: 0.3362 - val_loss: 0.3939 - val_mean_squared_error: 0.3939\n",
      "Epoch 26/30\n",
      "9517/9517 [==============================] - 0s 51us/step - loss: 0.3340 - mean_squared_error: 0.3340 - val_loss: 0.3744 - val_mean_squared_error: 0.3744\n",
      "Epoch 27/30\n",
      "9517/9517 [==============================] - 0s 49us/step - loss: 0.3329 - mean_squared_error: 0.3329 - val_loss: 0.3976 - val_mean_squared_error: 0.3976\n",
      "Epoch 28/30\n",
      "9517/9517 [==============================] - 0s 46us/step - loss: 0.3295 - mean_squared_error: 0.3295 - val_loss: 0.3361 - val_mean_squared_error: 0.3361\n",
      "Epoch 29/30\n",
      "9517/9517 [==============================] - 0s 44us/step - loss: 0.3301 - mean_squared_error: 0.3301 - val_loss: 0.3420 - val_mean_squared_error: 0.3420\n",
      "Epoch 30/30\n",
      "9517/9517 [==============================] - 0s 44us/step - loss: 0.3276 - mean_squared_error: 0.3276 - val_loss: 0.3707 - val_mean_squared_error: 0.3707\n"
     ]
    },
    {
     "data": {
      "text/plain": [
       "<keras.callbacks.History at 0x1a2c956a58>"
      ]
     },
     "execution_count": 465,
     "metadata": {},
     "output_type": "execute_result"
    }
   ],
   "source": [
    "NN_model.fit(train_x, train_y, epochs=30, verbose=1,validation_data=(valid_x,valid_y))"
   ]
  },
  {
   "cell_type": "code",
   "execution_count": null,
   "metadata": {
    "collapsed": true
   },
   "outputs": [],
   "source": [
    "sub6 = np.exp(NN_model.predict(test))"
   ]
  },
  {
   "cell_type": "code",
   "execution_count": null,
   "metadata": {
    "collapsed": true
   },
   "outputs": [],
   "source": [
    "sub66 = (sub5 + sub6)/2\n",
    "pd.DataFrame(sub66).to_excel(\"./sub66.xlsx\")"
   ]
  },
  {
   "cell_type": "code",
   "execution_count": 6,
   "metadata": {},
   "outputs": [],
   "source": [
    "import pandas as pd"
   ]
  },
  {
   "cell_type": "code",
   "execution_count": 7,
   "metadata": {},
   "outputs": [
    {
     "data": {
      "text/plain": [
       "'0.24.2'"
      ]
     },
     "execution_count": 7,
     "metadata": {},
     "output_type": "execute_result"
    }
   ],
   "source": [
    "pd.__version__"
   ]
  },
  {
   "cell_type": "code",
   "execution_count": null,
   "metadata": {
    "collapsed": true
   },
   "outputs": [],
   "source": []
  }
 ],
 "metadata": {
  "kernelspec": {
   "display_name": "Python 3",
   "language": "python",
   "name": "python3"
  },
  "language_info": {
   "codemirror_mode": {
    "name": "ipython",
    "version": 3
   },
   "file_extension": ".py",
   "mimetype": "text/x-python",
   "name": "python",
   "nbconvert_exporter": "python",
   "pygments_lexer": "ipython3",
   "version": "3.6.6"
  }
 },
 "nbformat": 4,
 "nbformat_minor": 2
}

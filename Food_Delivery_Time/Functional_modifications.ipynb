{
 "cells": [
  {
   "cell_type": "code",
   "execution_count": 1,
   "metadata": {},
   "outputs": [],
   "source": [
    "import pandas as pd\n",
    "import seaborn as sns\n",
    "import matplotlib.pyplot as plt\n",
    "import numpy as np\n",
    "import warnings\n",
    "warnings.filterwarnings(action=\"ignore\")\n",
    "import pandas_profiling"
   ]
  },
  {
   "cell_type": "code",
   "execution_count": 2,
   "metadata": {},
   "outputs": [],
   "source": [
    "raw_data1 = pd.read_excel(\"./Participants Data/Data_Train.xlsx\")\n",
    "test_data = pd.read_excel(\"./Participants Data/Data_Test.xlsx\")\n",
    "raw_data1['source'] = 'train'\n",
    "test_data['source'] = 'test'\n",
    "raw_data = pd.concat([raw_data1,test_data],ignore_index=True)"
   ]
  },
  {
   "cell_type": "code",
   "execution_count": 3,
   "metadata": {},
   "outputs": [],
   "source": [
    "def keep_only_numeric(df, cols, debug=False):\n",
    "    \n",
    "    '''\n",
    "    This function is to eliminate any non digit characters from a column.\n",
    "    This function post eliminating the non-digit characters converts the column to numeric.\n",
    "    '''\n",
    "    \n",
    "    if debug:\n",
    "        print(\"The data type of cols argument --->\",type(cols))\n",
    "        print(\"The contents of cols argument --->\\n\",(cols))\n",
    "    for i in cols:\n",
    "        if debug:\n",
    "            print(\"\\n\\nHead of\",i,\"\\n\",df[i].head())\n",
    "        df[i].replace(regex=True,inplace=True,to_replace=r'\\D',value=r'')\n",
    "        df[i] = pd.to_numeric(df[i])\n",
    "        if debug:\n",
    "            print(\"\\n\\nHead of\",i,\"after the update\\n\\n\",df[i].head())\n",
    "        \n",
    "    return df\n",
    "\n",
    "        "
   ]
  },
  {
   "cell_type": "code",
   "execution_count": 4,
   "metadata": {},
   "outputs": [],
   "source": [
    "def comma_seprated_categories(df, col):\n",
    "    \n",
    "    '''\n",
    "    \n",
    "    '''\n",
    "    cols = list(df[col])\n",
    "    max = 1\n",
    "    for i in cols:\n",
    "        if len(i.split(',')) > max:\n",
    "            max = len(i.split(','))\n",
    "    print(\"Max number of\",col,\"in a cell\",max)\n",
    "    \n",
    "    all_cats = []\n",
    "    for i in cols :\n",
    "     if len(i.split(',')) == 1:\n",
    "         all_cats.append(i.split(',')[0].strip().upper())\n",
    "     else :\n",
    "        for it in range(len(i.split(','))):\n",
    "            all_cats.append(i.split(',')[it].strip().upper())\n",
    "    print(\"\\n\\nNumber of Unique\",col,\": \", len(pd.Series(all_cats).unique()))\n",
    "    print(\"\\n\\nUnique\",col,\":\\n\", pd.Series(all_cats).unique()) \n",
    "    return list(pd.Series(all_cats).unique()),max"
   ]
  },
  {
   "cell_type": "code",
   "execution_count": 5,
   "metadata": {},
   "outputs": [],
   "source": [
    "def split_comma_seperated_features(df, maximum_features):\n",
    "    '''\n",
    "    This is to spilt cusines into maximum_features number of features \n",
    "    '''\n",
    "    global cus_list\n",
    "    cus_list = []\n",
    "    for i in range(1,maximum_features+1):\n",
    "        i = str(i)\n",
    "        cus_list.append(\"Cuisines_\"+i)\n",
    "        n = int(i)-1\n",
    "        df[\"Cuisines_\"+i] = df[\"Cuisines\"].str.split(\",\",expand = True)[n]\n",
    "        df[\"Cuisines_\"+i] = df[\"Cuisines_\"+i].str.upper()\n",
    "        df[\"Cuisines_\"+i] = df[\"Cuisines_\"+i].str.strip()\n",
    "    return df\n",
    "        \n",
    "        "
   ]
  },
  {
   "cell_type": "code",
   "execution_count": null,
   "metadata": {},
   "outputs": [],
   "source": []
  },
  {
   "cell_type": "code",
   "execution_count": 6,
   "metadata": {},
   "outputs": [],
   "source": [
    "#raw_data1.head()"
   ]
  },
  {
   "cell_type": "markdown",
   "metadata": {},
   "source": [
    "## This is to convert the following columns to numeric\n",
    "### <br>'Rating',<br>'Votes',<br>'Average_Cost',<br>'Minimum_Order',<br>'Reviews' "
   ]
  },
  {
   "cell_type": "code",
   "execution_count": 7,
   "metadata": {},
   "outputs": [],
   "source": [
    "num_update_list = ['Rating','Votes','Average_Cost','Minimum_Order','Reviews']\n",
    "raw_data1 = keep_only_numeric(raw_data1, cols=num_update_list,)"
   ]
  },
  {
   "cell_type": "code",
   "execution_count": 8,
   "metadata": {},
   "outputs": [],
   "source": [
    "#raw_data1.head()"
   ]
  },
  {
   "cell_type": "markdown",
   "metadata": {},
   "source": [
    "### The following is to get all the unique columns in Cusines seperated by a comma"
   ]
  },
  {
   "cell_type": "code",
   "execution_count": 9,
   "metadata": {},
   "outputs": [
    {
     "name": "stdout",
     "output_type": "stream",
     "text": [
      "Max number of Cuisines in a cell 8\n",
      "\n",
      "\n",
      "Number of Unique Cuisines :  101\n",
      "\n",
      "\n",
      "Unique Cuisines :\n",
      " ['FAST FOOD' 'ROLLS' 'BURGER' 'SALAD' 'WRAPS' 'ICE CREAM' 'DESSERTS'\n",
      " 'ITALIAN' 'STREET FOOD' 'MUGHLAI' 'NORTH INDIAN' 'CHINESE' 'CAFE'\n",
      " 'BEVERAGES' 'SOUTH INDIAN' 'THAI' 'ASIAN' 'MITHAI' 'MOMOS' 'INDONESIAN'\n",
      " 'BIRYANI' 'KERALA' 'BIHARI' 'MEXICAN' 'JAPANESE' 'BAKERY' 'BURMESE'\n",
      " 'BUBBLE TEA' 'TEA' 'PIZZA' 'LUCKNOWI' 'MANGALOREAN' 'EUROPEAN'\n",
      " 'CONTINENTAL' 'SANDWICH' 'HEALTHY FOOD' 'BENGALI' 'AMERICAN' 'MISHTI'\n",
      " 'HYDERABADI' 'ANDHRA' 'ASSAMESE' 'MAHARASHTRIAN' 'GERMAN' 'ARABIAN'\n",
      " 'FINGER FOOD' 'KEBAB' 'CHETTINAD' 'SEAFOOD' 'JUICES' 'PARSI' 'SUSHI'\n",
      " 'ODIA' 'TAMIL' 'CANTONESE' 'NORTH EASTERN' 'TIBETAN' 'LEBANESE' 'SPANISH'\n",
      " 'BAR FOOD' 'KONKAN' 'PAAN' 'STEAK' 'MEDITERRANEAN' 'BOHRI' 'AFGHAN'\n",
      " 'GOAN' 'GUJARATI' 'BBQ' 'RAW MEATS' 'MALAYSIAN' 'VIETNAMESE' 'SRI LANKAN'\n",
      " 'RAJASTHANI' 'POKÉ' 'ROAST CHICKEN' 'COFFEE' 'BRAZILIAN' 'BELGIAN' 'NAGA'\n",
      " 'KOREAN' 'MODERN INDIAN' 'AWADHI' 'KASHMIRI' 'FRENCH' 'PORTUGUESE'\n",
      " 'CHARCOAL CHICKEN' 'FROZEN YOGURT' 'BANGLADESHI' 'MALWANI' 'IRANIAN'\n",
      " 'NEPALESE' 'INDIAN' 'TEX-MEX' 'HOT DOGS' 'SOUTH AMERICAN'\n",
      " 'MIDDLE EASTERN' 'AFRICAN' 'TURKISH' 'ISRAELI' 'GREEK']\n"
     ]
    }
   ],
   "source": [
    "all_cusines, maximum = comma_seprated_categories(raw_data1,col='Cuisines')"
   ]
  },
  {
   "cell_type": "code",
   "execution_count": 10,
   "metadata": {},
   "outputs": [],
   "source": [
    "raw_data1 = split_comma_seperated_features(raw_data1, maximum)"
   ]
  },
  {
   "cell_type": "code",
   "execution_count": 11,
   "metadata": {},
   "outputs": [
    {
     "data": {
      "text/plain": [
       "['Cuisines_1',\n",
       " 'Cuisines_2',\n",
       " 'Cuisines_3',\n",
       " 'Cuisines_4',\n",
       " 'Cuisines_5',\n",
       " 'Cuisines_6',\n",
       " 'Cuisines_7',\n",
       " 'Cuisines_8']"
      ]
     },
     "execution_count": 11,
     "metadata": {},
     "output_type": "execute_result"
    }
   ],
   "source": [
    "cus_list"
   ]
  },
  {
   "cell_type": "code",
   "execution_count": null,
   "metadata": {},
   "outputs": [],
   "source": []
  },
  {
   "cell_type": "code",
   "execution_count": 12,
   "metadata": {},
   "outputs": [
    {
     "data": {
      "text/html": [
       "<div>\n",
       "<style scoped>\n",
       "    .dataframe tbody tr th:only-of-type {\n",
       "        vertical-align: middle;\n",
       "    }\n",
       "\n",
       "    .dataframe tbody tr th {\n",
       "        vertical-align: top;\n",
       "    }\n",
       "\n",
       "    .dataframe thead th {\n",
       "        text-align: right;\n",
       "    }\n",
       "</style>\n",
       "<table border=\"1\" class=\"dataframe\">\n",
       "  <thead>\n",
       "    <tr style=\"text-align: right;\">\n",
       "      <th></th>\n",
       "      <th>Restaurant</th>\n",
       "      <th>Location</th>\n",
       "      <th>Cuisines</th>\n",
       "      <th>Average_Cost</th>\n",
       "      <th>Minimum_Order</th>\n",
       "      <th>Rating</th>\n",
       "      <th>Votes</th>\n",
       "      <th>Reviews</th>\n",
       "      <th>Delivery_Time</th>\n",
       "      <th>source</th>\n",
       "      <th>Cuisines_1</th>\n",
       "      <th>Cuisines_2</th>\n",
       "      <th>Cuisines_3</th>\n",
       "      <th>Cuisines_4</th>\n",
       "      <th>Cuisines_5</th>\n",
       "      <th>Cuisines_6</th>\n",
       "      <th>Cuisines_7</th>\n",
       "      <th>Cuisines_8</th>\n",
       "    </tr>\n",
       "  </thead>\n",
       "  <tbody>\n",
       "    <tr>\n",
       "      <th>0</th>\n",
       "      <td>ID_6321</td>\n",
       "      <td>FTI College, Law College Road, Pune</td>\n",
       "      <td>Fast Food, Rolls, Burger, Salad, Wraps</td>\n",
       "      <td>200.0</td>\n",
       "      <td>50</td>\n",
       "      <td>35.0</td>\n",
       "      <td>12.0</td>\n",
       "      <td>4.0</td>\n",
       "      <td>30 minutes</td>\n",
       "      <td>train</td>\n",
       "      <td>FAST FOOD</td>\n",
       "      <td>ROLLS</td>\n",
       "      <td>BURGER</td>\n",
       "      <td>SALAD</td>\n",
       "      <td>WRAPS</td>\n",
       "      <td>None</td>\n",
       "      <td>None</td>\n",
       "      <td>None</td>\n",
       "    </tr>\n",
       "    <tr>\n",
       "      <th>1</th>\n",
       "      <td>ID_2882</td>\n",
       "      <td>Sector 3, Marathalli</td>\n",
       "      <td>Ice Cream, Desserts</td>\n",
       "      <td>100.0</td>\n",
       "      <td>50</td>\n",
       "      <td>35.0</td>\n",
       "      <td>11.0</td>\n",
       "      <td>4.0</td>\n",
       "      <td>30 minutes</td>\n",
       "      <td>train</td>\n",
       "      <td>ICE CREAM</td>\n",
       "      <td>DESSERTS</td>\n",
       "      <td>None</td>\n",
       "      <td>None</td>\n",
       "      <td>None</td>\n",
       "      <td>None</td>\n",
       "      <td>None</td>\n",
       "      <td>None</td>\n",
       "    </tr>\n",
       "    <tr>\n",
       "      <th>2</th>\n",
       "      <td>ID_1595</td>\n",
       "      <td>Mumbai Central</td>\n",
       "      <td>Italian, Street Food, Fast Food</td>\n",
       "      <td>150.0</td>\n",
       "      <td>50</td>\n",
       "      <td>36.0</td>\n",
       "      <td>99.0</td>\n",
       "      <td>30.0</td>\n",
       "      <td>65 minutes</td>\n",
       "      <td>train</td>\n",
       "      <td>ITALIAN</td>\n",
       "      <td>STREET FOOD</td>\n",
       "      <td>FAST FOOD</td>\n",
       "      <td>None</td>\n",
       "      <td>None</td>\n",
       "      <td>None</td>\n",
       "      <td>None</td>\n",
       "      <td>None</td>\n",
       "    </tr>\n",
       "    <tr>\n",
       "      <th>3</th>\n",
       "      <td>ID_5929</td>\n",
       "      <td>Sector 1, Noida</td>\n",
       "      <td>Mughlai, North Indian, Chinese</td>\n",
       "      <td>250.0</td>\n",
       "      <td>99</td>\n",
       "      <td>37.0</td>\n",
       "      <td>176.0</td>\n",
       "      <td>95.0</td>\n",
       "      <td>30 minutes</td>\n",
       "      <td>train</td>\n",
       "      <td>MUGHLAI</td>\n",
       "      <td>NORTH INDIAN</td>\n",
       "      <td>CHINESE</td>\n",
       "      <td>None</td>\n",
       "      <td>None</td>\n",
       "      <td>None</td>\n",
       "      <td>None</td>\n",
       "      <td>None</td>\n",
       "    </tr>\n",
       "    <tr>\n",
       "      <th>4</th>\n",
       "      <td>ID_6123</td>\n",
       "      <td>Rmz Centennial, I Gate, Whitefield</td>\n",
       "      <td>Cafe, Beverages</td>\n",
       "      <td>200.0</td>\n",
       "      <td>99</td>\n",
       "      <td>32.0</td>\n",
       "      <td>521.0</td>\n",
       "      <td>235.0</td>\n",
       "      <td>65 minutes</td>\n",
       "      <td>train</td>\n",
       "      <td>CAFE</td>\n",
       "      <td>BEVERAGES</td>\n",
       "      <td>None</td>\n",
       "      <td>None</td>\n",
       "      <td>None</td>\n",
       "      <td>None</td>\n",
       "      <td>None</td>\n",
       "      <td>None</td>\n",
       "    </tr>\n",
       "  </tbody>\n",
       "</table>\n",
       "</div>"
      ],
      "text/plain": [
       "  Restaurant                             Location  \\\n",
       "0    ID_6321  FTI College, Law College Road, Pune   \n",
       "1    ID_2882                 Sector 3, Marathalli   \n",
       "2    ID_1595                       Mumbai Central   \n",
       "3    ID_5929                      Sector 1, Noida   \n",
       "4    ID_6123   Rmz Centennial, I Gate, Whitefield   \n",
       "\n",
       "                                 Cuisines  Average_Cost  Minimum_Order  \\\n",
       "0  Fast Food, Rolls, Burger, Salad, Wraps         200.0             50   \n",
       "1                     Ice Cream, Desserts         100.0             50   \n",
       "2         Italian, Street Food, Fast Food         150.0             50   \n",
       "3          Mughlai, North Indian, Chinese         250.0             99   \n",
       "4                         Cafe, Beverages         200.0             99   \n",
       "\n",
       "   Rating  Votes  Reviews Delivery_Time source Cuisines_1    Cuisines_2  \\\n",
       "0    35.0   12.0      4.0    30 minutes  train  FAST FOOD         ROLLS   \n",
       "1    35.0   11.0      4.0    30 minutes  train  ICE CREAM      DESSERTS   \n",
       "2    36.0   99.0     30.0    65 minutes  train    ITALIAN   STREET FOOD   \n",
       "3    37.0  176.0     95.0    30 minutes  train    MUGHLAI  NORTH INDIAN   \n",
       "4    32.0  521.0    235.0    65 minutes  train       CAFE     BEVERAGES   \n",
       "\n",
       "  Cuisines_3 Cuisines_4 Cuisines_5 Cuisines_6 Cuisines_7 Cuisines_8  \n",
       "0     BURGER      SALAD      WRAPS       None       None       None  \n",
       "1       None       None       None       None       None       None  \n",
       "2  FAST FOOD       None       None       None       None       None  \n",
       "3    CHINESE       None       None       None       None       None  \n",
       "4       None       None       None       None       None       None  "
      ]
     },
     "execution_count": 12,
     "metadata": {},
     "output_type": "execute_result"
    }
   ],
   "source": [
    "raw_data1.head()"
   ]
  },
  {
   "cell_type": "code",
   "execution_count": 13,
   "metadata": {},
   "outputs": [
    {
     "name": "stdout",
     "output_type": "stream",
     "text": [
      "Mico Layout, Stage 2, BTM Layout,Bangalore\n",
      "D-Block, Sector 63, Noida\n",
      "Sector 1, Noida\n",
      "FTI College, Law College Road, Pune\n",
      "Delhi University-GTB Nagar\n",
      "Laxman Vihar Industrial Area, Sector 3A, Gurgoan\n",
      "Sector 14, Noida\n",
      "Delhi Administration Flats, Timarpur\n",
      "Mumbai Central\n",
      "Rmz Centennial, I Gate, Whitefield\n",
      "Delhi High Court, India Gate\n",
      "MG Road, Pune\n",
      "Nathan Road, Mangaldas Road, Pune\n",
      "Sandhurst Road, Mumbai CST Area\n",
      "Sector 3, Marathalli\n",
      "Majestic\n",
      "Delhi Cantt.\n",
      "Yerawada, Pune, Maharashtra\n",
      "Dockyard Road, Mumbai CST Area\n",
      "Babarpur, New Delhi, Delhi\n",
      "Pune University\n",
      "Sector 63A,Gurgaon\n",
      "Moulali, Kolkata\n",
      "Chandni Chowk, Kolkata\n",
      "Tejas Nagar Colony, Wadala West, Mumbai\n",
      "Raja Bazar, Kolkata\n",
      "Tiretti, Kolkata\n",
      "Hyderabad Public School, Begumpet\n",
      "Gora Bazar, Rajbari, North Dumdum, Kolkata\n",
      "Noorkhan Bazaar, Malakpet, Hyderabad\n",
      "Musi Nagar, Malakpet, Hyderabad\n",
      "Panjetan Colony, Malakpet, Hyderabad\n",
      "Chatta Bazaar, Malakpet, Hyderabad\n",
      "Jaya Nagar, Saidabad, Hyderabad\n",
      "BTM Layout 1, Electronic City\n"
     ]
    }
   ],
   "source": [
    "all_locations = []\n",
    "for i in raw_data1['Location'].value_counts().items():\n",
    "    print(i[0])\n",
    "    all_locations.append(i[0].strip())"
   ]
  },
  {
   "cell_type": "code",
   "execution_count": 14,
   "metadata": {},
   "outputs": [],
   "source": [
    "#Fill na for the Cusinies missing a value\n",
    "for i in cus_list:\n",
    "    raw_data1[i].fillna(\"NAA\", inplace=True)\n",
    "all_cusines.append(\"NAA\")"
   ]
  },
  {
   "cell_type": "code",
   "execution_count": 15,
   "metadata": {},
   "outputs": [
    {
     "data": {
      "text/plain": [
       "LabelEncoder()"
      ]
     },
     "execution_count": 15,
     "metadata": {},
     "output_type": "execute_result"
    }
   ],
   "source": [
    "from sklearn.preprocessing import LabelEncoder\n",
    "\n",
    "\n",
    "\n",
    "le_cuisines = LabelEncoder()\n",
    "le_locality = LabelEncoder()\n",
    "\n",
    "\n",
    "le_locality.fit(all_locations)\n",
    "le_cuisines.fit(all_cusines)"
   ]
  },
  {
   "cell_type": "code",
   "execution_count": 16,
   "metadata": {},
   "outputs": [],
   "source": [
    "raw_data1['Location_Encoded'] = le_locality.transform(raw_data1['Location'])"
   ]
  },
  {
   "cell_type": "code",
   "execution_count": 17,
   "metadata": {},
   "outputs": [],
   "source": [
    "for i in cus_list:\n",
    "    raw_data1[i] = le_cuisines.transform(raw_data1[i])"
   ]
  },
  {
   "cell_type": "code",
   "execution_count": 18,
   "metadata": {},
   "outputs": [
    {
     "data": {
      "text/html": [
       "<div>\n",
       "<style scoped>\n",
       "    .dataframe tbody tr th:only-of-type {\n",
       "        vertical-align: middle;\n",
       "    }\n",
       "\n",
       "    .dataframe tbody tr th {\n",
       "        vertical-align: top;\n",
       "    }\n",
       "\n",
       "    .dataframe thead th {\n",
       "        text-align: right;\n",
       "    }\n",
       "</style>\n",
       "<table border=\"1\" class=\"dataframe\">\n",
       "  <thead>\n",
       "    <tr style=\"text-align: right;\">\n",
       "      <th></th>\n",
       "      <th>Restaurant</th>\n",
       "      <th>Location</th>\n",
       "      <th>Cuisines</th>\n",
       "      <th>Average_Cost</th>\n",
       "      <th>Minimum_Order</th>\n",
       "      <th>Rating</th>\n",
       "      <th>Votes</th>\n",
       "      <th>Reviews</th>\n",
       "      <th>Delivery_Time</th>\n",
       "      <th>source</th>\n",
       "      <th>Cuisines_1</th>\n",
       "      <th>Cuisines_2</th>\n",
       "      <th>Cuisines_3</th>\n",
       "      <th>Cuisines_4</th>\n",
       "      <th>Cuisines_5</th>\n",
       "      <th>Cuisines_6</th>\n",
       "      <th>Cuisines_7</th>\n",
       "      <th>Cuisines_8</th>\n",
       "      <th>Location_Encoded</th>\n",
       "    </tr>\n",
       "  </thead>\n",
       "  <tbody>\n",
       "    <tr>\n",
       "      <th>0</th>\n",
       "      <td>ID_6321</td>\n",
       "      <td>FTI College, Law College Road, Pune</td>\n",
       "      <td>Fast Food, Rolls, Burger, Salad, Wraps</td>\n",
       "      <td>200.0</td>\n",
       "      <td>50</td>\n",
       "      <td>35.0</td>\n",
       "      <td>12.0</td>\n",
       "      <td>4.0</td>\n",
       "      <td>30 minutes</td>\n",
       "      <td>train</td>\n",
       "      <td>31</td>\n",
       "      <td>83</td>\n",
       "      <td>20</td>\n",
       "      <td>84</td>\n",
       "      <td>101</td>\n",
       "      <td>69</td>\n",
       "      <td>69</td>\n",
       "      <td>69</td>\n",
       "      <td>10</td>\n",
       "    </tr>\n",
       "    <tr>\n",
       "      <th>1</th>\n",
       "      <td>ID_2882</td>\n",
       "      <td>Sector 3, Marathalli</td>\n",
       "      <td>Ice Cream, Desserts</td>\n",
       "      <td>100.0</td>\n",
       "      <td>50</td>\n",
       "      <td>35.0</td>\n",
       "      <td>11.0</td>\n",
       "      <td>4.0</td>\n",
       "      <td>30 minutes</td>\n",
       "      <td>train</td>\n",
       "      <td>42</td>\n",
       "      <td>29</td>\n",
       "      <td>69</td>\n",
       "      <td>69</td>\n",
       "      <td>69</td>\n",
       "      <td>69</td>\n",
       "      <td>69</td>\n",
       "      <td>69</td>\n",
       "      <td>30</td>\n",
       "    </tr>\n",
       "    <tr>\n",
       "      <th>2</th>\n",
       "      <td>ID_1595</td>\n",
       "      <td>Mumbai Central</td>\n",
       "      <td>Italian, Street Food, Fast Food</td>\n",
       "      <td>150.0</td>\n",
       "      <td>50</td>\n",
       "      <td>36.0</td>\n",
       "      <td>99.0</td>\n",
       "      <td>30.0</td>\n",
       "      <td>65 minutes</td>\n",
       "      <td>train</td>\n",
       "      <td>47</td>\n",
       "      <td>92</td>\n",
       "      <td>31</td>\n",
       "      <td>69</td>\n",
       "      <td>69</td>\n",
       "      <td>69</td>\n",
       "      <td>69</td>\n",
       "      <td>69</td>\n",
       "      <td>19</td>\n",
       "    </tr>\n",
       "    <tr>\n",
       "      <th>3</th>\n",
       "      <td>ID_5929</td>\n",
       "      <td>Sector 1, Noida</td>\n",
       "      <td>Mughlai, North Indian, Chinese</td>\n",
       "      <td>250.0</td>\n",
       "      <td>99</td>\n",
       "      <td>37.0</td>\n",
       "      <td>176.0</td>\n",
       "      <td>95.0</td>\n",
       "      <td>30 minutes</td>\n",
       "      <td>train</td>\n",
       "      <td>68</td>\n",
       "      <td>73</td>\n",
       "      <td>26</td>\n",
       "      <td>69</td>\n",
       "      <td>69</td>\n",
       "      <td>69</td>\n",
       "      <td>69</td>\n",
       "      <td>69</td>\n",
       "      <td>28</td>\n",
       "    </tr>\n",
       "    <tr>\n",
       "      <th>4</th>\n",
       "      <td>ID_6123</td>\n",
       "      <td>Rmz Centennial, I Gate, Whitefield</td>\n",
       "      <td>Cafe, Beverages</td>\n",
       "      <td>200.0</td>\n",
       "      <td>99</td>\n",
       "      <td>32.0</td>\n",
       "      <td>521.0</td>\n",
       "      <td>235.0</td>\n",
       "      <td>65 minutes</td>\n",
       "      <td>train</td>\n",
       "      <td>22</td>\n",
       "      <td>14</td>\n",
       "      <td>69</td>\n",
       "      <td>69</td>\n",
       "      <td>69</td>\n",
       "      <td>69</td>\n",
       "      <td>69</td>\n",
       "      <td>69</td>\n",
       "      <td>26</td>\n",
       "    </tr>\n",
       "  </tbody>\n",
       "</table>\n",
       "</div>"
      ],
      "text/plain": [
       "  Restaurant                             Location  \\\n",
       "0    ID_6321  FTI College, Law College Road, Pune   \n",
       "1    ID_2882                 Sector 3, Marathalli   \n",
       "2    ID_1595                       Mumbai Central   \n",
       "3    ID_5929                      Sector 1, Noida   \n",
       "4    ID_6123   Rmz Centennial, I Gate, Whitefield   \n",
       "\n",
       "                                 Cuisines  Average_Cost  Minimum_Order  \\\n",
       "0  Fast Food, Rolls, Burger, Salad, Wraps         200.0             50   \n",
       "1                     Ice Cream, Desserts         100.0             50   \n",
       "2         Italian, Street Food, Fast Food         150.0             50   \n",
       "3          Mughlai, North Indian, Chinese         250.0             99   \n",
       "4                         Cafe, Beverages         200.0             99   \n",
       "\n",
       "   Rating  Votes  Reviews Delivery_Time source  Cuisines_1  Cuisines_2  \\\n",
       "0    35.0   12.0      4.0    30 minutes  train          31          83   \n",
       "1    35.0   11.0      4.0    30 minutes  train          42          29   \n",
       "2    36.0   99.0     30.0    65 minutes  train          47          92   \n",
       "3    37.0  176.0     95.0    30 minutes  train          68          73   \n",
       "4    32.0  521.0    235.0    65 minutes  train          22          14   \n",
       "\n",
       "   Cuisines_3  Cuisines_4  Cuisines_5  Cuisines_6  Cuisines_7  Cuisines_8  \\\n",
       "0          20          84         101          69          69          69   \n",
       "1          69          69          69          69          69          69   \n",
       "2          31          69          69          69          69          69   \n",
       "3          26          69          69          69          69          69   \n",
       "4          69          69          69          69          69          69   \n",
       "\n",
       "   Location_Encoded  \n",
       "0                10  \n",
       "1                30  \n",
       "2                19  \n",
       "3                28  \n",
       "4                26  "
      ]
     },
     "execution_count": 18,
     "metadata": {},
     "output_type": "execute_result"
    }
   ],
   "source": [
    "raw_data1.head()"
   ]
  },
  {
   "cell_type": "code",
   "execution_count": null,
   "metadata": {},
   "outputs": [],
   "source": []
  },
  {
   "cell_type": "code",
   "execution_count": 19,
   "metadata": {},
   "outputs": [
    {
     "name": "stdout",
     "output_type": "stream",
     "text": [
      "Max number of Cuisines in a cell 8\n",
      "\n",
      "\n",
      "Number of Unique Cuisines :  86\n",
      "\n",
      "\n",
      "Unique Cuisines :\n",
      " ['NORTH INDIAN' 'CHINESE' 'ASSAMESE' 'BIRYANI' 'KEBAB' 'FAST FOOD'\n",
      " 'MITHAI' 'SOUTH INDIAN' 'KERALA' 'SEAFOOD' 'MUGHLAI' 'STREET FOOD'\n",
      " 'BAKERY' 'DESSERTS' 'CAFE' 'CONTINENTAL' 'ITALIAN' 'AFGHAN' 'ASIAN'\n",
      " 'THAI' 'EUROPEAN' 'MOMOS' 'PIZZA' 'LEBANESE' 'ROLLS' 'BEVERAGES' 'BURGER'\n",
      " 'ICE CREAM' 'BAR FOOD' 'HEALTHY FOOD' 'SANDWICH' 'MAHARASHTRIAN' 'SALAD'\n",
      " 'STEAK' 'FINGER FOOD' 'BENGALI' 'ARABIAN' 'BBQ' 'MEXICAN' 'AMERICAN'\n",
      " 'JUICES' 'MISHTI' 'TEA' 'WRAPS' 'MEDITERRANEAN' 'HYDERABADI' 'RAJASTHANI'\n",
      " 'ANDHRA' 'PAAN' 'MODERN INDIAN' 'BANGLADESHI' 'COFFEE' 'HOT DOGS'\n",
      " 'JAPANESE' 'SUSHI' 'BELGIAN' 'ODIA' 'GOAN' 'MANGALOREAN' 'TIBETAN'\n",
      " 'MALWANI' 'BRAZILIAN' 'MIDDLE EASTERN' 'KOREAN' 'RAW MEATS' 'TURKISH'\n",
      " 'KASHMIRI' 'LUCKNOWI' 'BURMESE' 'PARSI' 'POKÉ' 'MALAYSIAN'\n",
      " 'ROAST CHICKEN' 'NAGA' 'BIHARI' 'FROZEN YOGURT' 'VIETNAMESE' 'AWADHI'\n",
      " 'INDIAN' 'FRENCH' 'GERMAN' 'SPANISH' 'NORTH EASTERN' 'CHETTINAD'\n",
      " 'AFRICAN' 'IRANIAN']\n"
     ]
    }
   ],
   "source": [
    "test_data = keep_only_numeric(test_data, cols=num_update_list,)\n",
    "all_cusines, maximum = comma_seprated_categories(test_data,col='Cuisines')\n",
    "test_data = split_comma_seperated_features(test_data, maximum)\n",
    "\n",
    "\n",
    "for i in cus_list:\n",
    "    test_data[i].fillna(\"NAA\", inplace=True)\n",
    "test_data['Location_Encoded'] = le_locality.transform(test_data['Location'])\n",
    "\n",
    "for i in cus_list:\n",
    "    test_data[i] = le_cuisines.transform(test_data[i])"
   ]
  },
  {
   "cell_type": "code",
   "execution_count": 20,
   "metadata": {},
   "outputs": [],
   "source": [
    "#raw_data1.drop(['Restaurant','Location','Cuisines','source'], inplace=True, axis=1,)\n",
    "#test_data.drop(['Restaurant','Location','Cuisines','source'], inplace=True, axis=1,)\n"
   ]
  },
  {
   "cell_type": "code",
   "execution_count": 21,
   "metadata": {},
   "outputs": [
    {
     "data": {
      "text/plain": [
       "Restaurant             0\n",
       "Location               0\n",
       "Cuisines               0\n",
       "Average_Cost           1\n",
       "Minimum_Order          0\n",
       "Rating              1963\n",
       "Votes               2074\n",
       "Reviews             2312\n",
       "Delivery_Time          0\n",
       "source                 0\n",
       "Cuisines_1             0\n",
       "Cuisines_2             0\n",
       "Cuisines_3             0\n",
       "Cuisines_4             0\n",
       "Cuisines_5             0\n",
       "Cuisines_6             0\n",
       "Cuisines_7             0\n",
       "Cuisines_8             0\n",
       "Location_Encoded       0\n",
       "dtype: int64"
      ]
     },
     "execution_count": 21,
     "metadata": {},
     "output_type": "execute_result"
    }
   ],
   "source": [
    "raw_data1.isnull().sum()"
   ]
  },
  {
   "cell_type": "code",
   "execution_count": 22,
   "metadata": {},
   "outputs": [
    {
     "data": {
      "text/plain": [
       "Restaurant            0\n",
       "Location              0\n",
       "Cuisines              0\n",
       "Average_Cost          0\n",
       "Minimum_Order         0\n",
       "Rating              507\n",
       "Votes               542\n",
       "Reviews             593\n",
       "source                0\n",
       "Cuisines_1            0\n",
       "Cuisines_2            0\n",
       "Cuisines_3            0\n",
       "Cuisines_4            0\n",
       "Cuisines_5            0\n",
       "Cuisines_6            0\n",
       "Cuisines_7            0\n",
       "Cuisines_8            0\n",
       "Location_Encoded      0\n",
       "dtype: int64"
      ]
     },
     "execution_count": 22,
     "metadata": {},
     "output_type": "execute_result"
    }
   ],
   "source": [
    "test_data.isnull().sum()"
   ]
  },
  {
   "cell_type": "code",
   "execution_count": 23,
   "metadata": {},
   "outputs": [],
   "source": [
    "raw_data1['Rating'].fillna(0, inplace=True)\n",
    "raw_data1['Votes'].fillna(0,inplace=True)\n",
    "raw_data1['Reviews'].fillna(0,inplace=True)"
   ]
  },
  {
   "cell_type": "code",
   "execution_count": 24,
   "metadata": {},
   "outputs": [],
   "source": [
    "test_data['Rating'].fillna(0, inplace=True)\n",
    "test_data['Votes'].fillna(0,inplace=True)\n",
    "test_data['Reviews'].fillna(0,inplace=True)"
   ]
  },
  {
   "cell_type": "code",
   "execution_count": 25,
   "metadata": {},
   "outputs": [],
   "source": [
    "raw_data1.dropna(inplace=True)"
   ]
  },
  {
   "cell_type": "code",
   "execution_count": 26,
   "metadata": {},
   "outputs": [
    {
     "data": {
      "text/plain": [
       "Restaurant          0\n",
       "Location            0\n",
       "Cuisines            0\n",
       "Average_Cost        0\n",
       "Minimum_Order       0\n",
       "Rating              0\n",
       "Votes               0\n",
       "Reviews             0\n",
       "Delivery_Time       0\n",
       "source              0\n",
       "Cuisines_1          0\n",
       "Cuisines_2          0\n",
       "Cuisines_3          0\n",
       "Cuisines_4          0\n",
       "Cuisines_5          0\n",
       "Cuisines_6          0\n",
       "Cuisines_7          0\n",
       "Cuisines_8          0\n",
       "Location_Encoded    0\n",
       "dtype: int64"
      ]
     },
     "execution_count": 26,
     "metadata": {},
     "output_type": "execute_result"
    }
   ],
   "source": [
    "raw_data1.isnull().sum()"
   ]
  },
  {
   "cell_type": "code",
   "execution_count": 27,
   "metadata": {},
   "outputs": [
    {
     "data": {
      "text/plain": [
       "Restaurant          0\n",
       "Location            0\n",
       "Cuisines            0\n",
       "Average_Cost        0\n",
       "Minimum_Order       0\n",
       "Rating              0\n",
       "Votes               0\n",
       "Reviews             0\n",
       "source              0\n",
       "Cuisines_1          0\n",
       "Cuisines_2          0\n",
       "Cuisines_3          0\n",
       "Cuisines_4          0\n",
       "Cuisines_5          0\n",
       "Cuisines_6          0\n",
       "Cuisines_7          0\n",
       "Cuisines_8          0\n",
       "Location_Encoded    0\n",
       "dtype: int64"
      ]
     },
     "execution_count": 27,
     "metadata": {},
     "output_type": "execute_result"
    }
   ],
   "source": [
    "test_data.isnull().sum()"
   ]
  },
  {
   "cell_type": "code",
   "execution_count": 28,
   "metadata": {},
   "outputs": [],
   "source": [
    "raw_data1.drop(['Restaurant','Location','Cuisines','source'], inplace=True, axis=1,)\n",
    "test_data.drop(['Restaurant','Location','Cuisines','source'], inplace=True, axis=1,)"
   ]
  },
  {
   "cell_type": "code",
   "execution_count": 29,
   "metadata": {},
   "outputs": [],
   "source": [
    "from sklearn import model_selection\n",
    "from sklearn.metrics import mean_squared_error\n",
    "import xgboost\n",
    "import numpy as np\n",
    "from sklearn.ensemble import RandomForestRegressor\n",
    "from sklearn.ensemble import RandomForestClassifier\n",
    "train_x, valid_x, train_y, valid_y = model_selection.train_test_split(raw_data1.drop([\"Delivery_Time\"], axis=1), raw_data1['Delivery_Time'])\n",
    "\n",
    "\n",
    "\n",
    "\n"
   ]
  },
  {
   "cell_type": "code",
   "execution_count": 30,
   "metadata": {},
   "outputs": [],
   "source": [
    "from sklearn.model_selection import GridSearchCV"
   ]
  },
  {
   "cell_type": "code",
   "execution_count": 31,
   "metadata": {},
   "outputs": [],
   "source": [
    "RF_G= param_grid={\n",
    "            'max_depth': [4,8,10,12,14,16],\n",
    "            'n_estimators': [10,20,30,40,50],\n",
    "            'min_samples_split': [2, 5, 10]\n",
    "        },"
   ]
  },
  {
   "cell_type": "code",
   "execution_count": 32,
   "metadata": {},
   "outputs": [],
   "source": [
    "gsearchRF1 = GridSearchCV(estimator = RandomForestClassifier(),param_grid=RF_G,)\n"
   ]
  },
  {
   "cell_type": "code",
   "execution_count": 33,
   "metadata": {},
   "outputs": [
    {
     "data": {
      "text/plain": [
       "GridSearchCV(cv='warn', error_score='raise-deprecating',\n",
       "             estimator=RandomForestClassifier(bootstrap=True, class_weight=None,\n",
       "                                              criterion='gini', max_depth=None,\n",
       "                                              max_features='auto',\n",
       "                                              max_leaf_nodes=None,\n",
       "                                              min_impurity_decrease=0.0,\n",
       "                                              min_impurity_split=None,\n",
       "                                              min_samples_leaf=1,\n",
       "                                              min_samples_split=2,\n",
       "                                              min_weight_fraction_leaf=0.0,\n",
       "                                              n_estimators='warn', n_jobs=None,\n",
       "                                              oob_score=False,\n",
       "                                              random_state=None, verbose=0,\n",
       "                                              warm_start=False),\n",
       "             iid='warn', n_jobs=None,\n",
       "             param_grid=({'max_depth': [4, 8, 10, 12, 14, 16],\n",
       "                          'min_samples_split': [2, 5, 10],\n",
       "                          'n_estimators': [10, 20, 30, 40, 50]},),\n",
       "             pre_dispatch='2*n_jobs', refit=True, return_train_score=False,\n",
       "             scoring=None, verbose=0)"
      ]
     },
     "execution_count": 33,
     "metadata": {},
     "output_type": "execute_result"
    }
   ],
   "source": [
    "gsearchRF1.fit(train_x,train_y)"
   ]
  },
  {
   "cell_type": "code",
   "execution_count": 34,
   "metadata": {},
   "outputs": [
    {
     "data": {
      "text/plain": [
       "{'max_depth': 16, 'min_samples_split': 2, 'n_estimators': 50}"
      ]
     },
     "execution_count": 34,
     "metadata": {},
     "output_type": "execute_result"
    }
   ],
   "source": [
    "gsearchRF1.best_params_"
   ]
  },
  {
   "cell_type": "code",
   "execution_count": 35,
   "metadata": {},
   "outputs": [
    {
     "data": {
      "text/plain": [
       "RandomForestClassifier(bootstrap=True, class_weight=None, criterion='gini',\n",
       "                       max_depth=None, max_features='auto', max_leaf_nodes=None,\n",
       "                       min_impurity_decrease=0.0, min_impurity_split=None,\n",
       "                       min_samples_leaf=1, min_samples_split=2,\n",
       "                       min_weight_fraction_leaf=0.0, n_estimators='warn',\n",
       "                       n_jobs=None, oob_score=False, random_state=None,\n",
       "                       verbose=0, warm_start=False)"
      ]
     },
     "execution_count": 35,
     "metadata": {},
     "output_type": "execute_result"
    }
   ],
   "source": [
    "RandomForestClassifier()"
   ]
  }
 ],
 "metadata": {
  "kernelspec": {
   "display_name": "Python 3",
   "language": "python",
   "name": "python3"
  },
  "language_info": {
   "codemirror_mode": {
    "name": "ipython",
    "version": 3
   },
   "file_extension": ".py",
   "mimetype": "text/x-python",
   "name": "python",
   "nbconvert_exporter": "python",
   "pygments_lexer": "ipython3",
   "version": "3.6.6"
  }
 },
 "nbformat": 4,
 "nbformat_minor": 2
}
